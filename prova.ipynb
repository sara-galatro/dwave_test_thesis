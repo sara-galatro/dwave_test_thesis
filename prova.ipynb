{
 "cells": [
  {
   "cell_type": "code",
   "execution_count": 2,
   "metadata": {},
   "outputs": [
    {
     "data": {
      "text/plain": [
       "BinaryQuadraticModel({'in1': 0.0, 'in2': 0.0, 'out': 3.0}, {('in2', 'in1'): 1.0, ('out', 'in1'): -2.0, ('out', 'in2'): -2.0}, 0.0, 'BINARY')"
      ]
     },
     "execution_count": 2,
     "metadata": {},
     "output_type": "execute_result"
    }
   ],
   "source": [
    "from dimod.generators import and_gate\n",
    "\n",
    "bqm = and_gate('in1','in2','out')\n",
    "bqm"
   ]
  },
  {
   "cell_type": "code",
   "execution_count": 3,
   "metadata": {},
   "outputs": [
    {
     "name": "stdout",
     "output_type": "stream",
     "text": [
      "  in1 in2 out energy num_oc.\n",
      "0   1   0   0    0.0       1\n",
      "['BINARY', 1 rows, 1 samples, 3 variables]\n"
     ]
    }
   ],
   "source": [
    "from dwave.system import LeapHybridSampler\n",
    "sampler = LeapHybridSampler()    \n",
    "answer = sampler.sample(bqm)   \n",
    "print(answer)    "
   ]
  },
  {
   "cell_type": "code",
   "execution_count": 4,
   "metadata": {},
   "outputs": [
    {
     "data": {
      "text/plain": [
       "({('in2', 'in1'): 1.0,\n",
       "  ('out', 'in1'): -2.0,\n",
       "  ('out', 'in2'): -2.0,\n",
       "  ('in1', 'in1'): 0.0,\n",
       "  ('in2', 'in2'): 0.0,\n",
       "  ('out', 'out'): 3.0},\n",
       " 0.0)"
      ]
     },
     "execution_count": 4,
     "metadata": {},
     "output_type": "execute_result"
    }
   ],
   "source": [
    "bqm.to_qubo()"
   ]
  },
  {
   "cell_type": "markdown",
   "metadata": {},
   "source": [
    "## Prova number partitioning\n",
    "\n",
    "Ho usato pyqubo, prova direttamente con dimod\n",
    "\n",
    "*nota*: qubo è una bqm.binary per dimod, tutto qui. quindi poi risolvi come una bqm"
   ]
  },
  {
   "cell_type": "code",
   "execution_count": 5,
   "metadata": {},
   "outputs": [
    {
     "data": {
      "text/plain": [
       "Array([[Binary('x[0][0]'), Binary('x[0][1]'), Binary('x[0][2]'), Binary('x[0][3]'), Binary('x[0][4]')]])"
      ]
     },
     "execution_count": 5,
     "metadata": {},
     "output_type": "execute_result"
    }
   ],
   "source": [
    "from pyqubo import Array\n",
    "\n",
    "x = Array.create('x', shape = (1,5), vartype = 'BINARY')\n",
    "x"
   ]
  },
  {
   "cell_type": "code",
   "execution_count": 6,
   "metadata": {},
   "outputs": [
    {
     "data": {
      "text/plain": [
       "20"
      ]
     },
     "execution_count": 6,
     "metadata": {},
     "output_type": "execute_result"
    }
   ],
   "source": [
    "num = [1,2,3,4,10]\n",
    "tot = sum(num)\n",
    "tot"
   ]
  },
  {
   "cell_type": "code",
   "execution_count": 7,
   "metadata": {},
   "outputs": [
    {
     "data": {
      "text/plain": [
       "array([[ -19.,    2.,    3.,    4.,   10.],\n",
       "       [   2.,  -36.,    6.,    8.,   20.],\n",
       "       [   3.,    6.,  -51.,   12.,   30.],\n",
       "       [   4.,    8.,   12.,  -64.,   40.],\n",
       "       [  10.,   20.,   30.,   40., -100.]])"
      ]
     },
     "execution_count": 7,
     "metadata": {},
     "output_type": "execute_result"
    }
   ],
   "source": [
    "import numpy as np\n",
    "\n",
    "Q = np.zeros((5,5))\n",
    "\n",
    "for i in range(5):\n",
    "    for j in range(i,5):\n",
    "        if i == j: \n",
    "            Q[i][j] = num[i]*(num[i] - tot)\n",
    "        else:\n",
    "            Q[i][j] = num[i]*num[j]\n",
    "            Q[j][i] = num[i]*num[j]\n",
    "\n",
    "Q"
   ]
  },
  {
   "cell_type": "code",
   "execution_count": 8,
   "metadata": {},
   "outputs": [],
   "source": [
    "#Arr_Q = Array(Q)\n",
    "#Arr_Q"
   ]
  },
  {
   "cell_type": "code",
   "execution_count": 9,
   "metadata": {},
   "outputs": [],
   "source": [
    "#x = x_t.T\n",
    "#x.shape"
   ]
  },
  {
   "cell_type": "code",
   "execution_count": 10,
   "metadata": {},
   "outputs": [
    {
     "data": {
      "text/plain": [
       "'\\nph = np.zeros((5,1))\\nfor i in range(5): ph[i] = Q[0][i]\\nprint(ph.shape)\\nsum(x*ph) # non va bene per creare il model\\n'"
      ]
     },
     "execution_count": 10,
     "metadata": {},
     "output_type": "execute_result"
    }
   ],
   "source": [
    "'''\n",
    "ph = np.zeros((5,1))\n",
    "for i in range(5): ph[i] = Q[0][i]\n",
    "print(ph.shape)\n",
    "sum(x*ph) # non va bene per creare il model\n",
    "'''"
   ]
  },
  {
   "cell_type": "code",
   "execution_count": 11,
   "metadata": {},
   "outputs": [
    {
     "data": {
      "text/plain": [
       "<cpp_pyqubo.Model at 0x2236702eb70>"
      ]
     },
     "execution_count": 11,
     "metadata": {},
     "output_type": "execute_result"
    }
   ],
   "source": [
    "ph_model = 0\n",
    "\n",
    "for i in range(5):\n",
    "    for j in range(5):\n",
    "        ph_model = ph_model + x[0,i]*Q[i][j]*x[0,j]\n",
    "\n",
    "model = ph_model.compile()\n",
    "model"
   ]
  },
  {
   "cell_type": "code",
   "execution_count": 12,
   "metadata": {},
   "outputs": [
    {
     "name": "stdout",
     "output_type": "stream",
     "text": [
      "({('x[0][4]', 'x[0][3]'): 80.0, ('x[0][3]', 'x[0][1]'): 16.0, ('x[0][0]', 'x[0][0]'): -19.0, ('x[0][3]', 'x[0][3]'): -64.0, ('x[0][1]', 'x[0][0]'): 4.0, ('x[0][4]', 'x[0][1]'): 40.0, ('x[0][4]', 'x[0][2]'): 60.0, ('x[0][3]', 'x[0][2]'): 24.0, ('x[0][2]', 'x[0][2]'): -51.0, ('x[0][3]', 'x[0][0]'): 8.0, ('x[0][2]', 'x[0][0]'): 6.0, ('x[0][2]', 'x[0][1]'): 12.0, ('x[0][4]', 'x[0][4]'): -100.0, ('x[0][1]', 'x[0][1]'): -36.0, ('x[0][4]', 'x[0][0]'): 20.0}, 0.0)\n"
     ]
    }
   ],
   "source": [
    "qubo_model = model.to_qubo()\n",
    "print(qubo_model)\n",
    "# vedi come stampare carino"
   ]
  },
  {
   "cell_type": "code",
   "execution_count": 22,
   "metadata": {},
   "outputs": [
    {
     "name": "stdout",
     "output_type": "stream",
     "text": [
      "BinaryQuadraticModel({'x[0][1]': -36.0, 'x[0][0]': -19.0, 'x[0][4]': -100.0, 'x[0][2]': -51.0, 'x[0][3]': -64.0}, {('x[0][0]', 'x[0][1]'): 4.0, ('x[0][4]', 'x[0][1]'): 40.0, ('x[0][4]', 'x[0][0]'): 20.0, ('x[0][2]', 'x[0][1]'): 12.0, ('x[0][2]', 'x[0][0]'): 6.0, ('x[0][2]', 'x[0][4]'): 60.0, ('x[0][3]', 'x[0][1]'): 16.0, ('x[0][3]', 'x[0][0]'): 8.0, ('x[0][3]', 'x[0][4]'): 80.0, ('x[0][3]', 'x[0][2]'): 24.0}, 0.0, 'BINARY')\n",
      "{'x[0][0]': 0, 'x[0][1]': 0, 'x[0][2]': 0, 'x[0][3]': 0, 'x[0][4]': 1}\n"
     ]
    }
   ],
   "source": [
    "import neal\n",
    "\n",
    "bqm = model.to_bqm()\n",
    "print(bqm)\n",
    "sa = neal.SimulatedAnnealingSampler()\n",
    "sampleset = sa.sample(bqm, num_reads=10)\n",
    "samples = model.decode_sampleset(sampleset)\n",
    "best_sample = min(samples, key=lambda s: s.energy)\n",
    "print(best_sample.sample) "
   ]
  },
  {
   "cell_type": "markdown",
   "metadata": {},
   "source": [
    "che in effetti è corretto: prendo S_1 = {x[0][4]} e S_2 come i primi 4 elementi"
   ]
  },
  {
   "cell_type": "code",
   "execution_count": 14,
   "metadata": {},
   "outputs": [
    {
     "name": "stdout",
     "output_type": "stream",
     "text": [
      "  x[0][0] x[0][1] x[0][2] x[0][3] x[0][4] energy num_oc.\n",
      "0       1       1       1       1       0 -100.0       1\n",
      "['BINARY', 1 rows, 1 samples, 5 variables]\n"
     ]
    }
   ],
   "source": [
    "# simulated annealing\n",
    "from dwave.system import LeapHybridSampler\n",
    "sampler = LeapHybridSampler()    \n",
    "answer = sampler.sample(bqm)   \n",
    "print(answer) "
   ]
  },
  {
   "cell_type": "markdown",
   "metadata": {},
   "source": [
    "# Prova number partitioning\n",
    "\n",
    "con dwave direttamente"
   ]
  },
  {
   "cell_type": "code",
   "execution_count": 15,
   "metadata": {},
   "outputs": [
    {
     "name": "stdout",
     "output_type": "stream",
     "text": [
      "[[ -19.    2.    3.    4.   10.]\n",
      " [   2.  -36.    6.    8.   20.]\n",
      " [   3.    6.  -51.   12.   30.]\n",
      " [   4.    8.   12.  -64.   40.]\n",
      " [  10.   20.   30.   40. -100.]]\n"
     ]
    }
   ],
   "source": [
    "import numpy as np\n",
    "import dimod as dd\n",
    "\n",
    "num = [1,2,3,4,10]\n",
    "tot = sum(num)\n",
    "\n",
    "Q = np.zeros((5,5))\n",
    "\n",
    "for i in range(5):\n",
    "    for j in range(i,5):\n",
    "        if i == j: \n",
    "            Q[i][j] = num[i]*(num[i] - tot)\n",
    "        else:\n",
    "            Q[i][j] = num[i]*num[j]\n",
    "            Q[j][i] = num[i]*num[j]\n",
    "\n",
    "print(Q)"
   ]
  },
  {
   "cell_type": "code",
   "execution_count": 16,
   "metadata": {},
   "outputs": [
    {
     "name": "stdout",
     "output_type": "stream",
     "text": [
      "{(0, 0): -19.0, (0, 1): 2.0, (0, 2): 3.0, (0, 3): 4.0, (0, 4): 10.0, (1, 0): 2.0, (1, 1): -36.0, (1, 2): 6.0, (1, 3): 8.0, (1, 4): 20.0, (2, 0): 3.0, (2, 1): 6.0, (2, 2): -51.0, (2, 3): 12.0, (2, 4): 30.0, (3, 0): 4.0, (3, 1): 8.0, (3, 2): 12.0, (3, 3): -64.0, (3, 4): 40.0, (4, 0): 10.0, (4, 1): 20.0, (4, 2): 30.0, (4, 3): 40.0, (4, 4): -100.0}\n"
     ]
    },
    {
     "data": {
      "text/plain": [
       "BinaryQuadraticModel({0: -19.0, 1: -36.0, 2: -51.0, 3: -64.0, 4: -100.0}, {(1, 0): 4.0, (2, 0): 6.0, (2, 1): 12.0, (3, 0): 8.0, (3, 1): 16.0, (3, 2): 24.0, (4, 0): 20.0, (4, 1): 40.0, (4, 2): 60.0, (4, 3): 80.0}, 0.0, 'BINARY')"
      ]
     },
     "execution_count": 16,
     "metadata": {},
     "output_type": "execute_result"
    }
   ],
   "source": [
    "qubo = dict()\n",
    "\n",
    "for i in range(5):\n",
    "    for j in range(5):\n",
    "        qubo[(i,j)] = Q[i][j]\n",
    "\n",
    "print(qubo)\n",
    "\n",
    "bqm_wave = dd.BQM.from_qubo(qubo)\n",
    "\n",
    "bqm_wave"
   ]
  },
  {
   "cell_type": "code",
   "execution_count": 17,
   "metadata": {},
   "outputs": [
    {
     "data": {
      "text/plain": [
       "SampleSet(rec.array([([1, 1, 1, 1, 0], -100.,  7, 0.),\n",
       "           ([0, 0, 0, 0, 1], -100., 25, 0.),\n",
       "           ([0, 1, 1, 1, 0],  -99.,  8, 0.),\n",
       "           ([1, 0, 0, 0, 1],  -99., 28, 0.),\n",
       "           ([0, 1, 0, 0, 1],  -96., 18, 0.),\n",
       "           ([1, 0, 1, 1, 0],  -96.,  4, 0.),\n",
       "           ([0, 0, 1, 1, 0],  -91.,  1, 0.),\n",
       "           ([1, 1, 0, 1, 0],  -91.,  3, 0.),\n",
       "           ([1, 1, 0, 0, 1],  -91.,  2, 0.),\n",
       "           ([0, 0, 1, 0, 1],  -91.,  2, 0.),\n",
       "           ([0, 1, 0, 1, 0],  -84.,  2, 0.)],\n",
       "          dtype=[('sample', 'i1', (5,)), ('energy', '<f8'), ('num_occurrences', '<i4'), ('chain_break_fraction', '<f8')]), Variables([0, 1, 2, 3, 4]), {'timing': {'qpu_sampling_time': 8196.0, 'qpu_anneal_time_per_sample': 20.0, 'qpu_readout_time_per_sample': 41.42, 'qpu_access_time': 23956.37, 'qpu_access_overhead_time': 1519.63, 'qpu_programming_time': 15760.37, 'qpu_delay_time_per_sample': 20.54, 'total_post_processing_time': 974.0, 'post_processing_overhead_time': 974.0}, 'problem_id': '984a3173-0786-42c3-a303-6d516abc32fd'}, 'BINARY')"
      ]
     },
     "execution_count": 17,
     "metadata": {},
     "output_type": "execute_result"
    }
   ],
   "source": [
    "from dwave.system import DWaveSampler, EmbeddingComposite\n",
    "sampleset = EmbeddingComposite(DWaveSampler()).sample(bqm_wave, num_reads=100) # submit to a QPU # DAVVERO?! # SIIIIIIIIIIIIIII\n",
    "sampleset"
   ]
  },
  {
   "cell_type": "code",
   "execution_count": 21,
   "metadata": {},
   "outputs": [
    {
     "data": {
      "text/plain": [
       "SampleSet(rec.array([([0, 0, 0, 0, 1], -100., 14, 0.),\n",
       "           ([1, 1, 1, 1, 0], -100., 12, 0.),\n",
       "           ([1, 0, 0, 0, 1],  -99., 24, 0.),\n",
       "           ([0, 1, 1, 1, 0],  -99.,  8, 0.),\n",
       "           ([0, 1, 0, 0, 1],  -96., 10, 0.),\n",
       "           ([1, 0, 1, 1, 0],  -96., 16, 0.),\n",
       "           ([1, 1, 0, 1, 0],  -91.,  2, 0.),\n",
       "           ([0, 0, 1, 0, 1],  -91.,  3, 0.),\n",
       "           ([1, 1, 0, 0, 1],  -91.,  5, 0.),\n",
       "           ([0, 0, 0, 1, 1],  -84.,  2, 0.),\n",
       "           ([1, 1, 1, 0, 0],  -84.,  2, 0.),\n",
       "           ([0, 1, 0, 1, 0],  -84.,  1, 0.),\n",
       "           ([1, 0, 0, 1, 1],  -75.,  1, 0.)],\n",
       "          dtype=[('sample', 'i1', (5,)), ('energy', '<f8'), ('num_occurrences', '<i4'), ('chain_break_fraction', '<f8')]), Variables([0, 1, 2, 3, 4]), {'timing': {'qpu_sampling_time': 9876.0, 'qpu_anneal_time_per_sample': 20.0, 'qpu_readout_time_per_sample': 58.22, 'qpu_access_time': 25636.37, 'qpu_access_overhead_time': 580.63, 'qpu_programming_time': 15760.37, 'qpu_delay_time_per_sample': 20.54, 'total_post_processing_time': 1845.0, 'post_processing_overhead_time': 1845.0}, 'problem_id': '1e857c4d-98a8-4853-a278-ea9822a8a6ce'}, 'BINARY')"
      ]
     },
     "execution_count": 21,
     "metadata": {},
     "output_type": "execute_result"
    }
   ],
   "source": [
    "EmbeddingComposite(DWaveSampler()).sample_qubo(qubo, num_reads=100)\n",
    "\n",
    "# superfluo\n",
    "# sample_qubo prende il qubo, lo trasforma in bqm e poi risolve\n",
    "# posso farlo anche io a priori quindi"
   ]
  },
  {
   "cell_type": "code",
   "execution_count": 71,
   "metadata": {},
   "outputs": [
    {
     "name": "stdout",
     "output_type": "stream",
     "text": [
      "   0  1  2  3  4 energy num_oc.\n",
      "0  0  0  0  0  1 -100.0       1\n",
      "['BINARY', 1 rows, 1 samples, 5 variables]\n"
     ]
    },
    {
     "data": {
      "text/plain": [
       "{'qpu_access_time': 80305,\n",
       " 'charge_time': 2989572,\n",
       " 'run_time': 2989572,\n",
       " 'problem_id': '91ac58fa-bf65-4dcc-9e3f-e99708425721'}"
      ]
     },
     "execution_count": 71,
     "metadata": {},
     "output_type": "execute_result"
    }
   ],
   "source": [
    "from dwave.system import LeapHybridSampler\n",
    "sampler = LeapHybridSampler(solver={'category': 'hybrid'})    \n",
    "sampleset_hybrid = sampler.sample(bqm_wave)   \n",
    "print(sampleset_hybrid)    \n",
    "sampleset_hybrid.info"
   ]
  },
  {
   "cell_type": "code",
   "execution_count": 73,
   "metadata": {},
   "outputs": [
    {
     "name": "stdout",
     "output_type": "stream",
     "text": [
      "   0  1  2  3  4 energy num_oc.\n",
      "0  0  0  0  0  1 -100.0       1\n",
      "['BINARY', 1 rows, 1 samples, 5 variables]\n"
     ]
    }
   ],
   "source": [
    "answer = sampler.sample_qubo(qubo)\n",
    "print(answer)"
   ]
  },
  {
   "cell_type": "markdown",
   "metadata": {},
   "source": [
    "Io non ho capito perchè mi dava problemi con la matrice e mi ha fatto fare tremila passaggi intermedi QUANDO BASTAVA PASSARE LA MATRICE ALLA FUNZIONE, VISTO CHE Q RAPPRESENTA GIà IL PROBLEMA IN MODELLO QUBO. \n",
    "\n",
    "io boh\n",
    "\n",
    "sintassi da usare: dd.BQM.from_qubo(Q)"
   ]
  }
 ],
 "metadata": {
  "kernelspec": {
   "display_name": "Python 3",
   "language": "python",
   "name": "python3"
  },
  "language_info": {
   "codemirror_mode": {
    "name": "ipython",
    "version": 3
   },
   "file_extension": ".py",
   "mimetype": "text/x-python",
   "name": "python",
   "nbconvert_exporter": "python",
   "pygments_lexer": "ipython3",
   "version": "3.10.7"
  },
  "orig_nbformat": 4
 },
 "nbformat": 4,
 "nbformat_minor": 2
}
