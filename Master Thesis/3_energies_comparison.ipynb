{
 "cells": [
  {
   "cell_type": "markdown",
   "metadata": {},
   "source": [
    "# Gathering energies from iterative runs for other embeddings"
   ]
  },
  {
   "cell_type": "markdown",
   "metadata": {},
   "source": [
    "Notebook that maps a Hamiltonian defined through truncated and penalization embeddings on both the Pegasus and the Zephyr topology, runs it through iterative method and stores energy levels."
   ]
  },
  {
   "cell_type": "markdown",
   "metadata": {},
   "source": [
    "Legenda:<br>\n",
    "<span style=\"color:cyan\">**TO DO (Th)**</span>: notes to myself, additional theory to add for the thesis presentation. <br>\n",
    "<span style=\"color:orange\">**TO DO (IF)**</span>: notes to myself, a non-necessary idea to implement. <br>\n",
    "<span style=\"color:red\">**TO DO (Crit)**</span>: problem or doubt to discuss and fix. <br>"
   ]
  },
  {
   "cell_type": "markdown",
   "metadata": {},
   "source": [
    "## **IMPORTANT**\n",
    "This notebook is not fully run because I ran out of time on D-Wave QPUs. I'll try to fin a way to run it or I'll just wait january refill."
   ]
  },
  {
   "cell_type": "markdown",
   "metadata": {},
   "source": [
    "## Setup"
   ]
  },
  {
   "cell_type": "code",
   "execution_count": 1,
   "metadata": {},
   "outputs": [],
   "source": [
    "# import\n",
    "import my_lib as lib \n",
    "import article_lib as article\n",
    "\n",
    "import examples_anf as anf\n",
    "\n",
    "import numpy as np\n",
    "import pandas as pd \n",
    "from sympy import symbols\n",
    "import matplotlib.pyplot as plp\n",
    "from dwave.inspector import show"
   ]
  },
  {
   "cell_type": "markdown",
   "metadata": {},
   "source": [
    "From `2_qubits_comparison.ipynb` we know that the Zephyr prototype can only support up to $6$ variables for now, so we will only implement such cases."
   ]
  },
  {
   "cell_type": "code",
   "execution_count": 2,
   "metadata": {},
   "outputs": [],
   "source": [
    "bits = 6\n",
    "x = symbols(\" \".join((f\"x{i}\" for i in range(1, bits+1))))\n",
    "\n",
    "if bits == 4:\n",
    "    p, sol = anf.example_4_anf(*x)\n",
    "elif bits == 6:\n",
    "    p, sol = anf.example_6_anf(*x)\n",
    "else:\n",
    "    raise Exception(f'Example with {bits}>6 bits cannot be implemented on Zephyr topology.')"
   ]
  },
  {
   "cell_type": "markdown",
   "metadata": {},
   "source": [
    "## "
   ]
  },
  {
   "cell_type": "markdown",
   "metadata": {},
   "source": [
    "## Truncated Embedding"
   ]
  },
  {
   "cell_type": "markdown",
   "metadata": {},
   "source": [
    "### Building the Hamiltonian"
   ]
  },
  {
   "cell_type": "code",
   "execution_count": 3,
   "metadata": {},
   "outputs": [],
   "source": [
    "# symbolic def\n",
    "truncated = article.truncated_embedding(bits, p, x)\n",
    "trunc_H = truncated.create_hamiltonian()\n",
    "trunc_sym = truncated.get_symbols()\n",
    "\n",
    "# QUBO model\n",
    "d_art = article.dwave_annealing(trunc_H, bits, trunc_sym)\n",
    "trunc_H_qubo, trunc_qubo_offset = d_art.symbolic_to_dwave(trunc_H, d_art.get_symbol_num(trunc_sym))"
   ]
  },
  {
   "cell_type": "markdown",
   "metadata": {},
   "source": [
    "### Pegasus"
   ]
  },
  {
   "cell_type": "code",
   "execution_count": 4,
   "metadata": {},
   "outputs": [
    {
     "name": "stdout",
     "output_type": "stream",
     "text": [
      "Building the BQM model.\n",
      "Running on Pegasus Topology.\n",
      "Number of variables: 90\n",
      "You chose the Article chainstrength: 28.797385620915033.\n",
      "Finished running the experiment!\n",
      "Energy of best sample at iteration 0: 5.0\n",
      "Best sample: [1 1 1 1 1 1]\n",
      "Fixing ancillae...\n",
      "Fixed 3 qubits:\n",
      "15 : 1\n",
      "17 : 1\n",
      "33 : 1\n",
      "\n",
      "------------------------------------------------------------------------\n",
      "\n",
      "Number of variables: 87\n",
      "You chose the Article chainstrength: 28.75233644859813.\n",
      "Finished running the experiment!\n",
      "Energy of best sample at iteration 1: 6.0\n",
      "Best sample: [1 1 1 1 1 1]\n",
      "Fixing ancillae...\n",
      "Fixed 6 qubits:\n",
      "15 : 1\n",
      "17 : 1\n",
      "33 : 1\n",
      "24 : 0\n",
      "44 : 0\n",
      "53 : 0\n",
      "\n",
      "------------------------------------------------------------------------\n",
      "\n",
      "Number of variables: 84\n",
      "You chose the Article chainstrength: 28.711111111111112.\n",
      "Finished running the experiment!\n",
      "Energy of best sample at iteration 2: 10.0\n",
      "Best sample: [1 1 1 1 0 1]\n",
      "Fixing ancillae...\n",
      "Fixed 10 qubits:\n",
      "15 : 1\n",
      "17 : 1\n",
      "33 : 1\n",
      "24 : 0\n",
      "44 : 0\n",
      "53 : 0\n",
      "38 : 1\n",
      "45 : 0\n",
      "69 : 1\n",
      "78 : 0\n",
      "\n",
      "------------------------------------------------------------------------\n",
      "\n",
      "Number of variables: 80\n",
      "You chose the Article chainstrength: 28.669291338582678.\n",
      "Finished running the experiment!\n",
      "Energy of best sample at iteration 3: 13.0\n",
      "Best sample: [1 1 1 1 0 1]\n",
      "Fixing ancillae...\n",
      "Fixed 20 qubits:\n",
      "15 : 1\n",
      "17 : 1\n",
      "33 : 1\n",
      "24 : 0\n",
      "44 : 0\n",
      "53 : 0\n",
      "38 : 1\n",
      "45 : 0\n",
      "69 : 1\n",
      "78 : 0\n",
      "6 : 1\n",
      "7 : 1\n",
      "8 : 1\n",
      "19 : 0\n",
      "42 : 0\n",
      "43 : 0\n",
      "50 : 0\n",
      "55 : 1\n",
      "75 : 0\n",
      "79 : 0\n",
      "\n",
      "------------------------------------------------------------------------\n",
      "\n",
      "Number of variables: 70\n",
      "You chose the Article chainstrength: 29.12.\n",
      "Finished running the experiment!\n",
      "Energy of best sample at iteration 4: 19.0\n",
      "Best sample: [1 0 1 1 0 1]\n",
      "Fixing ancillae...\n",
      "Fixed 30 qubits:\n",
      "15 : 1\n",
      "17 : 1\n",
      "33 : 1\n",
      "24 : 0\n",
      "44 : 0\n",
      "53 : 0\n",
      "38 : 1\n",
      "45 : 0\n",
      "69 : 0\n",
      "78 : 0\n",
      "6 : 0\n",
      "7 : 1\n",
      "8 : 1\n",
      "19 : 0\n",
      "42 : 0\n",
      "43 : 0\n",
      "50 : 0\n",
      "55 : 0\n",
      "75 : 0\n",
      "79 : 0\n",
      "10 : 0\n",
      "11 : 0\n",
      "35 : 0\n",
      "36 : 0\n",
      "47 : 1\n",
      "48 : 0\n",
      "49 : 0\n",
      "61 : 0\n",
      "63 : 0\n",
      "66 : 0\n",
      "\n",
      "------------------------------------------------------------------------\n",
      "\n",
      "Reconstructing the final state...\n",
      "Solution found: [1, 0, 1, 1, 0, 1]\n"
     ]
    }
   ],
   "source": [
    "# class def\n",
    "trunc_runner = lib.dwave_runners(trunc_H_qubo, trunc_qubo_offset, \n",
    "                                 bits, topology='Pegasus', \n",
    "                                 chosen_chainstrength='Article')\n",
    "\n",
    "# iterative call to save energies\n",
    "p_solution, p_timing_info, p_physical_qubits, final_it = trunc_runner.iterative()\n",
    "p_energies_hist = trunc_runner.energies_hist"
   ]
  },
  {
   "cell_type": "markdown",
   "metadata": {},
   "source": [
    "### Zephyr"
   ]
  },
  {
   "cell_type": "code",
   "execution_count": 7,
   "metadata": {},
   "outputs": [
    {
     "name": "stdout",
     "output_type": "stream",
     "text": [
      "Building the BQM model.\n",
      "Running on Zephyr Topology.\n",
      "Number of variables: 90\n",
      "You chose the Article chainstrength: 28.797385620915033.\n",
      "Finished running the experiment!\n",
      "Energy of best sample at iteration 0: 4.0\n",
      "Best sample: [0 0 1 1 1 1]\n",
      "Fixing ancillae...\n",
      "Fixed 21 qubits:\n",
      "15 : 1\n",
      "16 : 1\n",
      "17 : 1\n",
      "19 : 1\n",
      "25 : 1\n",
      "40 : 1\n",
      "41 : 1\n",
      "42 : 1\n",
      "43 : 0\n",
      "45 : 1\n",
      "51 : 1\n",
      "52 : 1\n",
      "53 : 1\n",
      "54 : 1\n",
      "62 : 1\n",
      "70 : 1\n",
      "76 : 1\n",
      "77 : 1\n",
      "86 : 0\n",
      "87 : 1\n",
      "88 : 1\n",
      "\n",
      "------------------------------------------------------------------------\n",
      "\n",
      "Number of variables: 69\n",
      "You chose the Article chainstrength: 30.218181818181815.\n",
      "Finished running the experiment!\n",
      "Energy of best sample at iteration 1: -5.0\n",
      "Best sample: [1 0 1 1 1 1]\n",
      "Fixing ancillae...\n",
      "Fixed 29 qubits:\n",
      "15 : 1\n",
      "16 : 1\n",
      "17 : 0\n",
      "19 : 0\n",
      "25 : 1\n",
      "40 : 0\n",
      "41 : 1\n",
      "42 : 1\n",
      "43 : 0\n",
      "45 : 1\n",
      "51 : 1\n",
      "52 : 0\n",
      "53 : 1\n",
      "54 : 1\n",
      "62 : 1\n",
      "70 : 1\n",
      "76 : 1\n",
      "77 : 1\n",
      "86 : 0\n",
      "87 : 1\n",
      "88 : 1\n",
      "18 : 0\n",
      "20 : 0\n",
      "29 : 1\n",
      "31 : 1\n",
      "35 : 0\n",
      "37 : 0\n",
      "39 : 0\n",
      "60 : 1\n",
      "\n",
      "------------------------------------------------------------------------\n",
      "\n",
      "Number of variables: 61\n",
      "You chose the Article chainstrength: 32.232824427480914.\n",
      "Finished running the experiment!\n",
      "Energy of best sample at iteration 2: 3.0\n",
      "Best sample: [1 0 1 1 1 1]\n",
      "Fixing ancillae...\n",
      "Fixed 41 qubits:\n",
      "15 : 0\n",
      "16 : 0\n",
      "17 : 0\n",
      "19 : 0\n",
      "25 : 1\n",
      "40 : 0\n",
      "41 : 1\n",
      "42 : 1\n",
      "43 : 0\n",
      "45 : 0\n",
      "51 : 1\n",
      "52 : 0\n",
      "53 : 1\n",
      "54 : 0\n",
      "62 : 1\n",
      "70 : 1\n",
      "76 : 1\n",
      "77 : 1\n",
      "86 : 0\n",
      "87 : 1\n",
      "88 : 1\n",
      "18 : 0\n",
      "20 : 0\n",
      "29 : 1\n",
      "31 : 0\n",
      "35 : 0\n",
      "37 : 0\n",
      "39 : 0\n",
      "60 : 1\n",
      "12 : 0\n",
      "21 : 1\n",
      "28 : 0\n",
      "30 : 0\n",
      "34 : 0\n",
      "36 : 0\n",
      "47 : 0\n",
      "50 : 0\n",
      "55 : 0\n",
      "56 : 0\n",
      "58 : 0\n",
      "59 : 0\n",
      "\n",
      "------------------------------------------------------------------------\n",
      "\n",
      "Number of variables: 49\n",
      "You chose the Article chainstrength: 33.22702702702703.\n",
      "Finished running the experiment!\n",
      "Energy of best sample at iteration 3: 15.0\n",
      "Best sample: [1 0 1 1 1 1]\n",
      "Fixing ancillae...\n",
      "Fixed 57 qubits:\n",
      "15 : 0\n",
      "16 : 0\n",
      "17 : 0\n",
      "19 : 0\n",
      "25 : 1\n",
      "40 : 0\n",
      "41 : 1\n",
      "42 : 0\n",
      "43 : 0\n",
      "45 : 0\n",
      "51 : 1\n",
      "52 : 0\n",
      "53 : 1\n",
      "54 : 0\n",
      "62 : 1\n",
      "70 : 1\n",
      "76 : 1\n",
      "77 : 1\n",
      "86 : 0\n",
      "87 : 1\n",
      "88 : 1\n",
      "18 : 0\n",
      "20 : 0\n",
      "29 : 1\n",
      "31 : 1\n",
      "35 : 0\n",
      "37 : 0\n",
      "39 : 0\n",
      "60 : 1\n",
      "12 : 0\n",
      "21 : 0\n",
      "28 : 0\n",
      "30 : 0\n",
      "34 : 1\n",
      "36 : 1\n",
      "47 : 0\n",
      "50 : 0\n",
      "55 : 0\n",
      "56 : 0\n",
      "58 : 0\n",
      "59 : 0\n",
      "7 : 1\n",
      "8 : 1\n",
      "9 : 1\n",
      "10 : 1\n",
      "11 : 0\n",
      "13 : 0\n",
      "14 : 0\n",
      "22 : 1\n",
      "23 : 1\n",
      "24 : 0\n",
      "26 : 0\n",
      "27 : 0\n",
      "33 : 0\n",
      "38 : 0\n",
      "44 : 0\n",
      "46 : 0\n",
      "\n",
      "------------------------------------------------------------------------\n",
      "\n",
      "Number of variables: 33\n",
      "You chose the Article chainstrength: 42.25925925925926.\n",
      "Finished running the experiment!\n"
     ]
    },
    {
     "ename": "SolverFailureError",
     "evalue": "Problem not accepted because user has insufficient remaining solver access time in project DEV",
     "output_type": "error",
     "traceback": [
      "\u001b[1;31m---------------------------------------------------------------------------\u001b[0m",
      "\u001b[1;31mSolverFailureError\u001b[0m                        Traceback (most recent call last)",
      "Cell \u001b[1;32mIn [7], line 7\u001b[0m\n\u001b[0;32m      2\u001b[0m trunc_runner \u001b[38;5;241m=\u001b[39m lib\u001b[38;5;241m.\u001b[39mdwave_runners(trunc_H_qubo, trunc_qubo_offset, \n\u001b[0;32m      3\u001b[0m                                  bits, topology\u001b[38;5;241m=\u001b[39m\u001b[38;5;124m'\u001b[39m\u001b[38;5;124mZephyr\u001b[39m\u001b[38;5;124m'\u001b[39m, \n\u001b[0;32m      4\u001b[0m                                  chosen_chainstrength\u001b[38;5;241m=\u001b[39m\u001b[38;5;124m'\u001b[39m\u001b[38;5;124mArticle\u001b[39m\u001b[38;5;124m'\u001b[39m)\n\u001b[0;32m      6\u001b[0m \u001b[38;5;66;03m# iterative call to save energies\u001b[39;00m\n\u001b[1;32m----> 7\u001b[0m z_solution, z_timing_info, z_physical_qubits, final_it \u001b[38;5;241m=\u001b[39m \u001b[43mtrunc_runner\u001b[49m\u001b[38;5;241;43m.\u001b[39;49m\u001b[43miterative\u001b[49m\u001b[43m(\u001b[49m\u001b[43m)\u001b[49m\n\u001b[0;32m      8\u001b[0m z_energies_hist \u001b[38;5;241m=\u001b[39m trunc_runner\u001b[38;5;241m.\u001b[39menergies_hist\n",
      "File \u001b[1;32mc:\\Users\\sgala\\OneDrive\\Desktop\\VSCode\\Codici_VsCode_Git\\Tesi\\QA_Zephyr\\my_lib.py:296\u001b[0m, in \u001b[0;36mdwave_runners.iterative\u001b[1;34m(self, iterations, treshold)\u001b[0m\n\u001b[0;32m    294\u001b[0m \u001b[38;5;66;03m## running on QPU\u001b[39;00m\n\u001b[0;32m    295\u001b[0m response \u001b[38;5;241m=\u001b[39m \u001b[38;5;28mself\u001b[39m\u001b[38;5;241m.\u001b[39msingle_run()\n\u001b[1;32m--> 296\u001b[0m record \u001b[38;5;241m=\u001b[39m \u001b[43mresponse\u001b[49m\u001b[38;5;241;43m.\u001b[39;49m\u001b[43mrecord\u001b[49m\n\u001b[0;32m    297\u001b[0m order \u001b[38;5;241m=\u001b[39m np\u001b[38;5;241m.\u001b[39margsort(record[\u001b[38;5;124m'\u001b[39m\u001b[38;5;124menergy\u001b[39m\u001b[38;5;124m'\u001b[39m])\n\u001b[0;32m    299\u001b[0m \u001b[38;5;66;03m#best_sample, best_energy = response.first.sample, response.first.energy\u001b[39;00m\n",
      "File \u001b[1;32m~\\AppData\\Roaming\\Python\\Python310\\site-packages\\dimod\\sampleset.py:1121\u001b[0m, in \u001b[0;36mSampleSet.record\u001b[1;34m(self)\u001b[0m\n\u001b[0;32m   1105\u001b[0m \u001b[38;5;129m@property\u001b[39m\n\u001b[0;32m   1106\u001b[0m \u001b[38;5;28;01mdef\u001b[39;00m \u001b[38;5;21mrecord\u001b[39m(\u001b[38;5;28mself\u001b[39m):\n\u001b[0;32m   1107\u001b[0m     \u001b[38;5;124;03m\"\"\":obj:`numpy.recarray` containing the samples, energies, number of occurences, and other sample data.\u001b[39;00m\n\u001b[0;32m   1108\u001b[0m \n\u001b[0;32m   1109\u001b[0m \u001b[38;5;124;03m    Examples:\u001b[39;00m\n\u001b[1;32m   (...)\u001b[0m\n\u001b[0;32m   1119\u001b[0m \n\u001b[0;32m   1120\u001b[0m \u001b[38;5;124;03m    \"\"\"\u001b[39;00m\n\u001b[1;32m-> 1121\u001b[0m     \u001b[38;5;28;43mself\u001b[39;49m\u001b[38;5;241;43m.\u001b[39;49m\u001b[43mresolve\u001b[49m\u001b[43m(\u001b[49m\u001b[43m)\u001b[49m\n\u001b[0;32m   1122\u001b[0m     \u001b[38;5;28;01mreturn\u001b[39;00m \u001b[38;5;28mself\u001b[39m\u001b[38;5;241m.\u001b[39m_record\n",
      "File \u001b[1;32m~\\AppData\\Roaming\\Python\\Python310\\site-packages\\dimod\\sampleset.py:1470\u001b[0m, in \u001b[0;36mSampleSet.resolve\u001b[1;34m(self)\u001b[0m\n\u001b[0;32m   1468\u001b[0m \u001b[38;5;66;03m# if it doesn't have the attribute then it is already resolved\u001b[39;00m\n\u001b[0;32m   1469\u001b[0m \u001b[38;5;28;01mif\u001b[39;00m \u001b[38;5;28mhasattr\u001b[39m(\u001b[38;5;28mself\u001b[39m, \u001b[38;5;124m'\u001b[39m\u001b[38;5;124m_future\u001b[39m\u001b[38;5;124m'\u001b[39m):\n\u001b[1;32m-> 1470\u001b[0m     samples \u001b[38;5;241m=\u001b[39m \u001b[38;5;28;43mself\u001b[39;49m\u001b[38;5;241;43m.\u001b[39;49m\u001b[43m_result_hook\u001b[49m\u001b[43m(\u001b[49m\u001b[38;5;28;43mself\u001b[39;49m\u001b[38;5;241;43m.\u001b[39;49m\u001b[43m_future\u001b[49m\u001b[43m)\u001b[49m\n\u001b[0;32m   1471\u001b[0m     \u001b[38;5;28mself\u001b[39m\u001b[38;5;241m.\u001b[39m\u001b[38;5;21m__init__\u001b[39m(samples\u001b[38;5;241m.\u001b[39mrecord, samples\u001b[38;5;241m.\u001b[39mvariables, samples\u001b[38;5;241m.\u001b[39minfo, samples\u001b[38;5;241m.\u001b[39mvartype)\n\u001b[0;32m   1472\u001b[0m     \u001b[38;5;28;01mdel\u001b[39;00m \u001b[38;5;28mself\u001b[39m\u001b[38;5;241m.\u001b[39m_future\n",
      "File \u001b[1;32m~\\AppData\\Roaming\\Python\\Python310\\site-packages\\dwave\\system\\composites\\embedding.py:282\u001b[0m, in \u001b[0;36mEmbeddingComposite.sample.<locals>.async_unembed\u001b[1;34m(response)\u001b[0m\n\u001b[0;32m    279\u001b[0m \u001b[38;5;28;01mdef\u001b[39;00m \u001b[38;5;21masync_unembed\u001b[39m(response):\n\u001b[0;32m    280\u001b[0m     \u001b[38;5;66;03m# unembed the sampleset aysnchronously.\u001b[39;00m\n\u001b[1;32m--> 282\u001b[0m     \u001b[43mwarninghandler\u001b[49m\u001b[38;5;241;43m.\u001b[39;49m\u001b[43mchain_break\u001b[49m\u001b[43m(\u001b[49m\u001b[43mresponse\u001b[49m\u001b[43m,\u001b[49m\u001b[43m \u001b[49m\u001b[43membedding\u001b[49m\u001b[43m)\u001b[49m\n\u001b[0;32m    284\u001b[0m     sampleset \u001b[38;5;241m=\u001b[39m unembed_sampleset(response, embedding, source_bqm\u001b[38;5;241m=\u001b[39mbqm,\n\u001b[0;32m    285\u001b[0m                                   chain_break_method\u001b[38;5;241m=\u001b[39mchain_break_method,\n\u001b[0;32m    286\u001b[0m                                   chain_break_fraction\u001b[38;5;241m=\u001b[39mchain_break_fraction,\n\u001b[0;32m    287\u001b[0m                                   return_embedding\u001b[38;5;241m=\u001b[39mreturn_embedding)\n\u001b[0;32m    289\u001b[0m     \u001b[38;5;28;01mif\u001b[39;00m return_embedding:\n",
      "File \u001b[1;32m~\\AppData\\Roaming\\Python\\Python310\\site-packages\\dwave\\system\\warnings.py:163\u001b[0m, in \u001b[0;36mWarningHandler.chain_break\u001b[1;34m(self, sampleset, embedding)\u001b[0m\n\u001b[0;32m    160\u001b[0m \u001b[38;5;28;01mif\u001b[39;00m as_action(\u001b[38;5;28mself\u001b[39m\u001b[38;5;241m.\u001b[39maction) \u001b[38;5;129;01mis\u001b[39;00m IGNORE:\n\u001b[0;32m    161\u001b[0m     \u001b[38;5;28;01mreturn\u001b[39;00m\n\u001b[1;32m--> 163\u001b[0m ground \u001b[38;5;241m=\u001b[39m \u001b[43msampleset\u001b[49m\u001b[38;5;241;43m.\u001b[39;49m\u001b[43mlowest\u001b[49m\u001b[43m(\u001b[49m\u001b[43m)\u001b[49m\n\u001b[0;32m    164\u001b[0m variables \u001b[38;5;241m=\u001b[39m \u001b[38;5;28mlist\u001b[39m(embedding)\n\u001b[0;32m    165\u001b[0m chains \u001b[38;5;241m=\u001b[39m [embedding[v] \u001b[38;5;28;01mfor\u001b[39;00m v \u001b[38;5;129;01min\u001b[39;00m variables]\n",
      "File \u001b[1;32m~\\AppData\\Roaming\\Python\\Python310\\site-packages\\dimod\\sampleset.py:1581\u001b[0m, in \u001b[0;36mSampleSet.lowest\u001b[1;34m(self, rtol, atol)\u001b[0m\n\u001b[0;32m   1538\u001b[0m \u001b[38;5;28;01mdef\u001b[39;00m \u001b[38;5;21mlowest\u001b[39m(\u001b[38;5;28mself\u001b[39m, rtol\u001b[38;5;241m=\u001b[39m\u001b[38;5;241m1.e-5\u001b[39m, atol\u001b[38;5;241m=\u001b[39m\u001b[38;5;241m1.e-8\u001b[39m):\n\u001b[0;32m   1539\u001b[0m     \u001b[38;5;124;03m\"\"\"Return a sample set containing the lowest-energy samples.\u001b[39;00m\n\u001b[0;32m   1540\u001b[0m \n\u001b[0;32m   1541\u001b[0m \u001b[38;5;124;03m    A sample is included if its energy is within tolerance of the lowest\u001b[39;00m\n\u001b[1;32m   (...)\u001b[0m\n\u001b[0;32m   1578\u001b[0m \n\u001b[0;32m   1579\u001b[0m \u001b[38;5;124;03m    \"\"\"\u001b[39;00m\n\u001b[1;32m-> 1581\u001b[0m     \u001b[38;5;28;01mif\u001b[39;00m \u001b[38;5;28;43mlen\u001b[39;49m\u001b[43m(\u001b[49m\u001b[38;5;28;43mself\u001b[39;49m\u001b[43m)\u001b[49m \u001b[38;5;241m==\u001b[39m \u001b[38;5;241m0\u001b[39m:\n\u001b[0;32m   1582\u001b[0m         \u001b[38;5;66;03m# empty so all are lowest\u001b[39;00m\n\u001b[0;32m   1583\u001b[0m         \u001b[38;5;28;01mreturn\u001b[39;00m \u001b[38;5;28mself\u001b[39m\u001b[38;5;241m.\u001b[39mcopy()\n\u001b[0;32m   1585\u001b[0m     record \u001b[38;5;241m=\u001b[39m \u001b[38;5;28mself\u001b[39m\u001b[38;5;241m.\u001b[39mrecord\n",
      "File \u001b[1;32m~\\AppData\\Roaming\\Python\\Python310\\site-packages\\dimod\\sampleset.py:981\u001b[0m, in \u001b[0;36mSampleSet.__len__\u001b[1;34m(self)\u001b[0m\n\u001b[0;32m    979\u001b[0m \u001b[38;5;28;01mdef\u001b[39;00m \u001b[38;5;21m__len__\u001b[39m(\u001b[38;5;28mself\u001b[39m):\n\u001b[0;32m    980\u001b[0m     \u001b[38;5;124;03m\"\"\"The number of rows in record.\"\"\"\u001b[39;00m\n\u001b[1;32m--> 981\u001b[0m     \u001b[38;5;28;01mreturn\u001b[39;00m \u001b[38;5;28;43mself\u001b[39;49m\u001b[38;5;241;43m.\u001b[39;49m\u001b[43mrecord\u001b[49m\u001b[38;5;241m.\u001b[39m\u001b[38;5;21m__len__\u001b[39m()\n",
      "File \u001b[1;32m~\\AppData\\Roaming\\Python\\Python310\\site-packages\\dimod\\sampleset.py:1121\u001b[0m, in \u001b[0;36mSampleSet.record\u001b[1;34m(self)\u001b[0m\n\u001b[0;32m   1105\u001b[0m \u001b[38;5;129m@property\u001b[39m\n\u001b[0;32m   1106\u001b[0m \u001b[38;5;28;01mdef\u001b[39;00m \u001b[38;5;21mrecord\u001b[39m(\u001b[38;5;28mself\u001b[39m):\n\u001b[0;32m   1107\u001b[0m     \u001b[38;5;124;03m\"\"\":obj:`numpy.recarray` containing the samples, energies, number of occurences, and other sample data.\u001b[39;00m\n\u001b[0;32m   1108\u001b[0m \n\u001b[0;32m   1109\u001b[0m \u001b[38;5;124;03m    Examples:\u001b[39;00m\n\u001b[1;32m   (...)\u001b[0m\n\u001b[0;32m   1119\u001b[0m \n\u001b[0;32m   1120\u001b[0m \u001b[38;5;124;03m    \"\"\"\u001b[39;00m\n\u001b[1;32m-> 1121\u001b[0m     \u001b[38;5;28;43mself\u001b[39;49m\u001b[38;5;241;43m.\u001b[39;49m\u001b[43mresolve\u001b[49m\u001b[43m(\u001b[49m\u001b[43m)\u001b[49m\n\u001b[0;32m   1122\u001b[0m     \u001b[38;5;28;01mreturn\u001b[39;00m \u001b[38;5;28mself\u001b[39m\u001b[38;5;241m.\u001b[39m_record\n",
      "File \u001b[1;32m~\\AppData\\Roaming\\Python\\Python310\\site-packages\\dimod\\sampleset.py:1470\u001b[0m, in \u001b[0;36mSampleSet.resolve\u001b[1;34m(self)\u001b[0m\n\u001b[0;32m   1468\u001b[0m \u001b[38;5;66;03m# if it doesn't have the attribute then it is already resolved\u001b[39;00m\n\u001b[0;32m   1469\u001b[0m \u001b[38;5;28;01mif\u001b[39;00m \u001b[38;5;28mhasattr\u001b[39m(\u001b[38;5;28mself\u001b[39m, \u001b[38;5;124m'\u001b[39m\u001b[38;5;124m_future\u001b[39m\u001b[38;5;124m'\u001b[39m):\n\u001b[1;32m-> 1470\u001b[0m     samples \u001b[38;5;241m=\u001b[39m \u001b[38;5;28;43mself\u001b[39;49m\u001b[38;5;241;43m.\u001b[39;49m\u001b[43m_result_hook\u001b[49m\u001b[43m(\u001b[49m\u001b[38;5;28;43mself\u001b[39;49m\u001b[38;5;241;43m.\u001b[39;49m\u001b[43m_future\u001b[49m\u001b[43m)\u001b[49m\n\u001b[0;32m   1471\u001b[0m     \u001b[38;5;28mself\u001b[39m\u001b[38;5;241m.\u001b[39m\u001b[38;5;21m__init__\u001b[39m(samples\u001b[38;5;241m.\u001b[39mrecord, samples\u001b[38;5;241m.\u001b[39mvariables, samples\u001b[38;5;241m.\u001b[39minfo, samples\u001b[38;5;241m.\u001b[39mvartype)\n\u001b[0;32m   1472\u001b[0m     \u001b[38;5;28;01mdel\u001b[39;00m \u001b[38;5;28mself\u001b[39m\u001b[38;5;241m.\u001b[39m_future\n",
      "File \u001b[1;32m~\\AppData\\Roaming\\Python\\Python310\\site-packages\\dwave\\system\\samplers\\dwave_sampler.py:453\u001b[0m, in \u001b[0;36mDWaveSampler.sample.<locals>._hook\u001b[1;34m(computation)\u001b[0m\n\u001b[0;32m    451\u001b[0m \u001b[38;5;28;01mexcept\u001b[39;00m (SolverError, InvalidAPIResponseError) \u001b[38;5;28;01mas\u001b[39;00m exc:\n\u001b[0;32m    452\u001b[0m     \u001b[38;5;28;01mif\u001b[39;00m \u001b[38;5;129;01mnot\u001b[39;00m \u001b[38;5;28mself\u001b[39m\u001b[38;5;241m.\u001b[39mfailover:\n\u001b[1;32m--> 453\u001b[0m         \u001b[38;5;28;01mraise\u001b[39;00m exc\n\u001b[0;32m    454\u001b[0m     \u001b[38;5;28;01mif\u001b[39;00m \u001b[38;5;28misinstance\u001b[39m(exc, SolverAuthenticationError):\n\u001b[0;32m    455\u001b[0m         \u001b[38;5;28;01mraise\u001b[39;00m exc\n",
      "File \u001b[1;32m~\\AppData\\Roaming\\Python\\Python310\\site-packages\\dwave\\system\\samplers\\dwave_sampler.py:440\u001b[0m, in \u001b[0;36mDWaveSampler.sample.<locals>._hook\u001b[1;34m(computation)\u001b[0m\n\u001b[0;32m    437\u001b[0m     \u001b[38;5;28;01mreturn\u001b[39;00m sampleset\n\u001b[0;32m    439\u001b[0m \u001b[38;5;28;01mtry\u001b[39;00m:\n\u001b[1;32m--> 440\u001b[0m     \u001b[38;5;28;01mreturn\u001b[39;00m \u001b[43mresolve\u001b[49m\u001b[43m(\u001b[49m\u001b[43mcomputation\u001b[49m\u001b[43m)\u001b[49m\n\u001b[0;32m    442\u001b[0m \u001b[38;5;28;01mexcept\u001b[39;00m (ProblemUploadError, RequestTimeout, PollingTimeout) \u001b[38;5;28;01mas\u001b[39;00m exc:\n\u001b[0;32m    443\u001b[0m     \u001b[38;5;28;01mif\u001b[39;00m \u001b[38;5;129;01mnot\u001b[39;00m \u001b[38;5;28mself\u001b[39m\u001b[38;5;241m.\u001b[39mfailover:\n",
      "File \u001b[1;32m~\\AppData\\Roaming\\Python\\Python310\\site-packages\\dwave\\system\\samplers\\dwave_sampler.py:430\u001b[0m, in \u001b[0;36mDWaveSampler.sample.<locals>._hook.<locals>.resolve\u001b[1;34m(computation)\u001b[0m\n\u001b[0;32m    428\u001b[0m \u001b[38;5;28;01mdef\u001b[39;00m \u001b[38;5;21mresolve\u001b[39m(computation):\n\u001b[0;32m    429\u001b[0m     sampleset \u001b[38;5;241m=\u001b[39m computation\u001b[38;5;241m.\u001b[39msampleset\n\u001b[1;32m--> 430\u001b[0m     \u001b[43msampleset\u001b[49m\u001b[38;5;241;43m.\u001b[39;49m\u001b[43mresolve\u001b[49m\u001b[43m(\u001b[49m\u001b[43m)\u001b[49m\n\u001b[0;32m    432\u001b[0m     \u001b[38;5;28;01mif\u001b[39;00m warninghandler \u001b[38;5;129;01mis\u001b[39;00m \u001b[38;5;129;01mnot\u001b[39;00m \u001b[38;5;28;01mNone\u001b[39;00m:\n\u001b[0;32m    433\u001b[0m         warninghandler\u001b[38;5;241m.\u001b[39mtoo_few_samples(sampleset)\n",
      "File \u001b[1;32m~\\AppData\\Roaming\\Python\\Python310\\site-packages\\dimod\\sampleset.py:1470\u001b[0m, in \u001b[0;36mSampleSet.resolve\u001b[1;34m(self)\u001b[0m\n\u001b[0;32m   1468\u001b[0m \u001b[38;5;66;03m# if it doesn't have the attribute then it is already resolved\u001b[39;00m\n\u001b[0;32m   1469\u001b[0m \u001b[38;5;28;01mif\u001b[39;00m \u001b[38;5;28mhasattr\u001b[39m(\u001b[38;5;28mself\u001b[39m, \u001b[38;5;124m'\u001b[39m\u001b[38;5;124m_future\u001b[39m\u001b[38;5;124m'\u001b[39m):\n\u001b[1;32m-> 1470\u001b[0m     samples \u001b[38;5;241m=\u001b[39m \u001b[38;5;28;43mself\u001b[39;49m\u001b[38;5;241;43m.\u001b[39;49m\u001b[43m_result_hook\u001b[49m\u001b[43m(\u001b[49m\u001b[38;5;28;43mself\u001b[39;49m\u001b[38;5;241;43m.\u001b[39;49m\u001b[43m_future\u001b[49m\u001b[43m)\u001b[49m\n\u001b[0;32m   1471\u001b[0m     \u001b[38;5;28mself\u001b[39m\u001b[38;5;241m.\u001b[39m\u001b[38;5;21m__init__\u001b[39m(samples\u001b[38;5;241m.\u001b[39mrecord, samples\u001b[38;5;241m.\u001b[39mvariables, samples\u001b[38;5;241m.\u001b[39minfo, samples\u001b[38;5;241m.\u001b[39mvartype)\n\u001b[0;32m   1472\u001b[0m     \u001b[38;5;28;01mdel\u001b[39;00m \u001b[38;5;28mself\u001b[39m\u001b[38;5;241m.\u001b[39m_future\n",
      "File \u001b[1;32m~\\AppData\\Roaming\\Python\\Python310\\site-packages\\dwave\\cloud\\computation.py:823\u001b[0m, in \u001b[0;36mFuture.sampleset.<locals>.<lambda>\u001b[1;34m(f)\u001b[0m\n\u001b[0;32m    818\u001b[0m \u001b[38;5;28;01mexcept\u001b[39;00m \u001b[38;5;167;01mImportError\u001b[39;00m:\n\u001b[0;32m    819\u001b[0m     \u001b[38;5;28;01mraise\u001b[39;00m \u001b[38;5;167;01mRuntimeError\u001b[39;00m(\u001b[38;5;124m\"\u001b[39m\u001b[38;5;124mCan\u001b[39m\u001b[38;5;124m'\u001b[39m\u001b[38;5;124mt construct SampleSet without dimod. \u001b[39m\u001b[38;5;124m\"\u001b[39m\n\u001b[0;32m    820\u001b[0m                        \u001b[38;5;124m\"\u001b[39m\u001b[38;5;124mRe-install the library with \u001b[39m\u001b[38;5;124m'\u001b[39m\u001b[38;5;124mbqm\u001b[39m\u001b[38;5;124m'\u001b[39m\u001b[38;5;124m support.\u001b[39m\u001b[38;5;124m\"\u001b[39m)\n\u001b[0;32m    822\u001b[0m \u001b[38;5;28mself\u001b[39m\u001b[38;5;241m.\u001b[39m_sampleset \u001b[38;5;241m=\u001b[39m sampleset \u001b[38;5;241m=\u001b[39m dimod\u001b[38;5;241m.\u001b[39mSampleSet\u001b[38;5;241m.\u001b[39mfrom_future(\n\u001b[1;32m--> 823\u001b[0m     \u001b[38;5;28mself\u001b[39m, \u001b[38;5;28;01mlambda\u001b[39;00m f: \u001b[43mf\u001b[49m\u001b[38;5;241;43m.\u001b[39;49m\u001b[43mwait_sampleset\u001b[49m\u001b[43m(\u001b[49m\u001b[43m)\u001b[49m)\n\u001b[0;32m    825\u001b[0m \u001b[38;5;66;03m# propagate id to sampleset as well\u001b[39;00m\n\u001b[0;32m    826\u001b[0m \u001b[38;5;66;03m# note: this requires dimod>=0.8.21 (before that version SampleSet\u001b[39;00m\n\u001b[0;32m    827\u001b[0m \u001b[38;5;66;03m# had slots set which prevented dynamic addition of attributes).\u001b[39;00m\n\u001b[0;32m    828\u001b[0m sampleset\u001b[38;5;241m.\u001b[39mwait_id \u001b[38;5;241m=\u001b[39m \u001b[38;5;28mself\u001b[39m\u001b[38;5;241m.\u001b[39mwait_id\n",
      "File \u001b[1;32m~\\AppData\\Roaming\\Python\\Python310\\site-packages\\dwave\\cloud\\computation.py:755\u001b[0m, in \u001b[0;36mFuture.wait_sampleset\u001b[1;34m(self)\u001b[0m\n\u001b[0;32m    752\u001b[0m \u001b[38;5;124;03m\"\"\"Blocking sampleset getter.\"\"\"\u001b[39;00m\n\u001b[0;32m    754\u001b[0m \u001b[38;5;66;03m# blocking result get\u001b[39;00m\n\u001b[1;32m--> 755\u001b[0m result \u001b[38;5;241m=\u001b[39m \u001b[38;5;28;43mself\u001b[39;49m\u001b[38;5;241;43m.\u001b[39;49m\u001b[43m_load_result\u001b[49m\u001b[43m(\u001b[49m\u001b[43m)\u001b[49m\n\u001b[0;32m    757\u001b[0m \u001b[38;5;66;03m# common problem info: id/label\u001b[39;00m\n\u001b[0;32m    758\u001b[0m problem_info \u001b[38;5;241m=\u001b[39m \u001b[38;5;28mdict\u001b[39m(problem_id\u001b[38;5;241m=\u001b[39m\u001b[38;5;28mself\u001b[39m\u001b[38;5;241m.\u001b[39mid)\n",
      "File \u001b[1;32m~\\AppData\\Roaming\\Python\\Python310\\site-packages\\dwave\\cloud\\computation.py:893\u001b[0m, in \u001b[0;36mFuture._load_result\u001b[1;34m(self)\u001b[0m\n\u001b[0;32m    891\u001b[0m \u001b[38;5;66;03m# Check for other error conditions\u001b[39;00m\n\u001b[0;32m    892\u001b[0m \u001b[38;5;28;01mif\u001b[39;00m \u001b[38;5;28mself\u001b[39m\u001b[38;5;241m.\u001b[39m_exception \u001b[38;5;129;01mis\u001b[39;00m \u001b[38;5;129;01mnot\u001b[39;00m \u001b[38;5;28;01mNone\u001b[39;00m:\n\u001b[1;32m--> 893\u001b[0m     \u001b[38;5;28;01mraise\u001b[39;00m \u001b[38;5;28mself\u001b[39m\u001b[38;5;241m.\u001b[39m_exception\n\u001b[0;32m    895\u001b[0m \u001b[38;5;66;03m# If someone else took care of this while we were waiting\u001b[39;00m\n\u001b[0;32m    896\u001b[0m \u001b[38;5;28;01mif\u001b[39;00m \u001b[38;5;28mself\u001b[39m\u001b[38;5;241m.\u001b[39m_result \u001b[38;5;129;01mis\u001b[39;00m \u001b[38;5;129;01mnot\u001b[39;00m \u001b[38;5;28;01mNone\u001b[39;00m:\n",
      "File \u001b[1;32m~\\AppData\\Roaming\\Python\\Python310\\site-packages\\dwave\\cloud\\client\\base.py:1455\u001b[0m, in \u001b[0;36mClient._handle_problem_status\u001b[1;34m(self, message, future)\u001b[0m\n\u001b[0;32m   1453\u001b[0m             \u001b[38;5;28;01mraise\u001b[39;00m SolverOfflineError(errmsg)\n\u001b[0;32m   1454\u001b[0m         \u001b[38;5;28;01melse\u001b[39;00m:\n\u001b[1;32m-> 1455\u001b[0m             \u001b[38;5;28;01mraise\u001b[39;00m SolverFailureError(errmsg)\n\u001b[0;32m   1457\u001b[0m \u001b[38;5;28;01mexcept\u001b[39;00m \u001b[38;5;167;01mException\u001b[39;00m \u001b[38;5;28;01mas\u001b[39;00m exc:\n\u001b[0;32m   1458\u001b[0m     \u001b[38;5;66;03m# If there were any unhandled errors we need to release the\u001b[39;00m\n\u001b[0;32m   1459\u001b[0m     \u001b[38;5;66;03m# lock in the future, otherwise deadlock occurs.\u001b[39;00m\n\u001b[0;32m   1460\u001b[0m     future\u001b[38;5;241m.\u001b[39m_set_exception(exc)\n",
      "\u001b[1;31mSolverFailureError\u001b[0m: Problem not accepted because user has insufficient remaining solver access time in project DEV"
     ]
    }
   ],
   "source": [
    "# class def\n",
    "trunc_runner = lib.dwave_runners(trunc_H_qubo, trunc_qubo_offset, \n",
    "                                 bits, topology='Zephyr', \n",
    "                                 chosen_chainstrength='Article')\n",
    "\n",
    "# iterative call to save energies\n",
    "z_solution, z_timing_info, z_physical_qubits, final_it = trunc_runner.iterative()\n",
    "z_energies_hist = trunc_runner.energies_hist"
   ]
  },
  {
   "cell_type": "markdown",
   "metadata": {},
   "source": [
    "### Comparing"
   ]
  },
  {
   "cell_type": "code",
   "execution_count": null,
   "metadata": {},
   "outputs": [],
   "source": [
    "for i in range (5):\n",
    "    plp.hist([p_energies_hist[i], z_energies_hist[i]], histtype='stepfilled', \n",
    "             color=['blue', 'green'], label=['Pegasus', 'Zephyr'])\n",
    "    plp.legend()\n",
    "    plp.show()"
   ]
  },
  {
   "cell_type": "markdown",
   "metadata": {},
   "source": [
    "<span style=\"color:red\">**TO DO (Crit)**</span>: I think that this kind of histogram is not a useful data representation, given that the sampling is different for different runs (even on the same topology). How can we better represent the difference bettween topologies?"
   ]
  },
  {
   "cell_type": "markdown",
   "metadata": {},
   "source": [
    "## Penalization Embedding"
   ]
  },
  {
   "cell_type": "markdown",
   "metadata": {},
   "source": [
    "### Building the Hamiltonian"
   ]
  },
  {
   "cell_type": "code",
   "execution_count": null,
   "metadata": {},
   "outputs": [],
   "source": [
    "# symbolic def\n",
    "penalization = article.penalization_embedding(bits, p, x)\n",
    "pen_H = penalization.create_hamiltonian()\n",
    "pen_sym = penalization.get_symbols()\n",
    "\n",
    "# QUBO model\n",
    "d_art = article.dwave_annealing(pen_H, bits, pen_sym)\n",
    "pen_H_qubo, pen_qubo_offset = d_art.symbolic_to_dwave(pen_H, d_art.get_symbol_num(pen_sym))"
   ]
  },
  {
   "cell_type": "markdown",
   "metadata": {},
   "source": [
    "### Pegasus"
   ]
  },
  {
   "cell_type": "code",
   "execution_count": null,
   "metadata": {},
   "outputs": [],
   "source": [
    "# class def\n",
    "pen_runner = lib.dwave_runners(pen_H_qubo, pen_qubo_offset, \n",
    "                                 bits, topology='Pegasus', \n",
    "                                 chosen_chainstrength='Article')\n",
    "\n",
    "# iterative call to save energies\n",
    "p_solution, p_timing_info, p_physical_qubits, final_it = pen_runner.iterative()\n",
    "p_energies_hist = pen_runner.energies_hist"
   ]
  },
  {
   "cell_type": "markdown",
   "metadata": {},
   "source": [
    "### Zephyr"
   ]
  },
  {
   "cell_type": "code",
   "execution_count": null,
   "metadata": {},
   "outputs": [],
   "source": [
    "# class def\n",
    "pen_runner = lib.dwave_runners(pen_H_qubo, pen_qubo_offset, \n",
    "                                 bits, topology='Zephyr', \n",
    "                                 chosen_chainstrength='Article')\n",
    "\n",
    "# iterative call to save energies\n",
    "z_solution, z_timing_info, z_physical_qubits, final_it = pen_runner.iterative()\n",
    "z_energies_hist = pen_runner.energies_hist"
   ]
  },
  {
   "cell_type": "markdown",
   "metadata": {},
   "source": [
    "### Comparing"
   ]
  },
  {
   "cell_type": "code",
   "execution_count": null,
   "metadata": {},
   "outputs": [],
   "source": [
    "for i in range (5):\n",
    "    plp.hist([p_energies_hist[i], z_energies_hist[i]], histtype='stepfilled', \n",
    "             color=['blue', 'green'], label=['Pegasus', 'Zephyr'])\n",
    "    plp.legend()\n",
    "    plp.show()"
   ]
  }
 ],
 "metadata": {
  "kernelspec": {
   "display_name": "Python 3",
   "language": "python",
   "name": "python3"
  },
  "language_info": {
   "codemirror_mode": {
    "name": "ipython",
    "version": 3
   },
   "file_extension": ".py",
   "mimetype": "text/x-python",
   "name": "python",
   "nbconvert_exporter": "python",
   "pygments_lexer": "ipython3",
   "version": "3.10.7"
  }
 },
 "nbformat": 4,
 "nbformat_minor": 2
}
