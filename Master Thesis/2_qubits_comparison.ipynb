{
 "cells": [
  {
   "cell_type": "markdown",
   "metadata": {},
   "source": [
    "# Counting qubits: Zephyr vs Pegasus"
   ]
  },
  {
   "cell_type": "markdown",
   "metadata": {},
   "source": [
    "Notebook that maps a Hamiltonian defined through truncated and penalization embeddings on both the Pegasus and the Zephyr topology to comparate the number of needed physical qubits."
   ]
  },
  {
   "cell_type": "markdown",
   "metadata": {},
   "source": [
    "Legenda:<br>\n",
    "<span style=\"color:cyan\">**TO DO (Th)**</span>: notes to myself, additional theory to add for the thesis presentation. <br>\n",
    "<span style=\"color:orange\">**TO DO (IF)**</span>: notes to myself, a non-necessary idea to implement. <br>\n",
    "<span style=\"color:red\">**TO DO (Crit)**</span>: problem or doubt to discuss and fix. <br>"
   ]
  },
  {
   "cell_type": "markdown",
   "metadata": {},
   "source": [
    "## Setup"
   ]
  },
  {
   "cell_type": "code",
   "execution_count": 1,
   "metadata": {},
   "outputs": [],
   "source": [
    "# import\n",
    "import my_lib as lib \n",
    "import article_lib as article\n",
    "\n",
    "import examples_anf as anf\n",
    "\n",
    "import numpy as np\n",
    "import pandas as pd \n",
    "from sympy import symbols\n",
    "from dwave.inspector import show"
   ]
  },
  {
   "cell_type": "code",
   "execution_count": 2,
   "metadata": {},
   "outputs": [],
   "source": [
    "## bit list\n",
    "\n",
    "bit_max = 8                                         # max number of bits to run\n",
    "bit_list = [i for i in range(4, bit_max+1, 2)]      # even numbers from 4 to bit_max\n",
    "\n",
    "p_list = []\n",
    "x_list = []\n",
    "\n",
    "for bits in bit_list:\n",
    "\n",
    "    x = symbols(\" \".join((f\"x{i}\" for i in range(1, bits+1))))\n",
    "    \n",
    "    if bits == 4:\n",
    "        p, sol = anf.example_4_anf(*x)\n",
    "    elif bits == 6:\n",
    "        p, sol = anf.example_6_anf(*x)\n",
    "    elif bits == 8:\n",
    "        p, sol = anf.example_8_anf(*x)\n",
    "    elif bits == 10:\n",
    "        p, sol = anf.example_10_anf(*x)\n",
    "    elif bits == 12:\n",
    "        p, sol = anf.example_12_anf(*x)\n",
    "    elif bits == 14:\n",
    "        p, sol = anf.example_14_anf(*x)\n",
    "    elif bits == 16:\n",
    "        p, sol = anf.example_16_anf(*x)\n",
    "    elif bits == 18:\n",
    "        p, sol = anf.example_18_anf(*x)\n",
    "\n",
    "    p_list.append(p)\n",
    "    x_list.append(x)"
   ]
  },
  {
   "cell_type": "markdown",
   "metadata": {},
   "source": [
    "## Truncated Embedding"
   ]
  },
  {
   "cell_type": "markdown",
   "metadata": {},
   "source": [
    "### Building the Hamiltonian"
   ]
  },
  {
   "cell_type": "markdown",
   "metadata": {},
   "source": [
    "Since we will run the truncated Hamiltonians both via Pegasus and Zephyr topology, it's best to define them a priori and store them away.\n",
    "\n",
    "They will be added to a designated list already in QUBO format whilist their offsets will be stored in another list, in the same order."
   ]
  },
  {
   "cell_type": "code",
   "execution_count": 3,
   "metadata": {},
   "outputs": [],
   "source": [
    "## building truncated H\n",
    "\n",
    "trunc_Hs = []\n",
    "trunc_offsets = []\n",
    "\n",
    "for i in range(len(bit_list)):\n",
    "\n",
    "    # symbolic def\n",
    "    truncated = article.truncated_embedding(bit_list[i], p_list[i], x_list[i])\n",
    "    trunc_H = truncated.create_hamiltonian()\n",
    "    trunc_sym = truncated.get_symbols()\n",
    "\n",
    "    # QUBO model\n",
    "    d_art = article.dwave_annealing(trunc_H, bit_list[i], trunc_sym)\n",
    "    trunc_H_qubo, trunc_qubo_offset = d_art.symbolic_to_dwave(trunc_H, d_art.get_symbol_num(trunc_sym))\n",
    "\n",
    "    # store\n",
    "    trunc_Hs.append(trunc_H_qubo)\n",
    "    trunc_offsets.append(trunc_qubo_offset)"
   ]
  },
  {
   "cell_type": "markdown",
   "metadata": {},
   "source": [
    "### Pegasus"
   ]
  },
  {
   "cell_type": "code",
   "execution_count": 4,
   "metadata": {},
   "outputs": [
    {
     "name": "stdout",
     "output_type": "stream",
     "text": [
      "Building the BQM model.\n",
      "Running on Pegasus Topology.\n",
      "You chose the Article chainstrength: 27.530612244897956.\n",
      "Finished running the experiment #1!\n",
      "Finished running the experiment #2!\n",
      "Finished running the experiment #3!\n",
      "Finished running the experiment #4!\n",
      "\n",
      "--------------------------------------------------------------------------\n",
      "\n",
      "Building the BQM model.\n",
      "Running on Pegasus Topology.\n",
      "You chose the Article chainstrength: 28.797385620915033.\n",
      "Finished running the experiment #1!\n",
      "Finished running the experiment #2!\n",
      "Finished running the experiment #3!\n",
      "Finished running the experiment #4!\n",
      "\n",
      "--------------------------------------------------------------------------\n",
      "\n",
      "Building the BQM model.\n",
      "Running on Pegasus Topology.\n",
      "You chose the Article chainstrength: 30.021599999999996.\n",
      "Finished running the experiment #1!\n",
      "Finished running the experiment #2!\n",
      "Finished running the experiment #3!\n",
      "Finished running the experiment #4!\n",
      "\n",
      "--------------------------------------------------------------------------\n",
      "\n"
     ]
    }
   ],
   "source": [
    "p_trunc_qubits = {}\n",
    "\n",
    "for i in range(len(bit_list)):\n",
    "\n",
    "    trunc_runner = lib.dwave_runners(trunc_Hs[i], trunc_offsets[i], \n",
    "                                     bit_list[i], topology='Pegasus', \n",
    "                                     chosen_chainstrength='Article')\n",
    "    \n",
    "    logical_qubits, physical_qubits = trunc_runner.counting_qubits(average=4)\n",
    "\n",
    "    p_trunc_qubits[f'{bit_list[i]}_bits'] = [logical_qubits, physical_qubits]"
   ]
  },
  {
   "cell_type": "code",
   "execution_count": 5,
   "metadata": {},
   "outputs": [
    {
     "name": "stdout",
     "output_type": "stream",
     "text": [
      "\u001b[1m-----------Used Qubits on Pegasus-----------\u001b[0m\n",
      "                 4_bits  6_bits  8_bits\n",
      "logical_qubits    30.00   90.00   231.0\n",
      "physical_qubits   53.75  226.25   748.0\n"
     ]
    }
   ],
   "source": [
    "p_trunc_qubits_df = pd.DataFrame(p_trunc_qubits, index=['logical_qubits', 'physical_qubits'])\n",
    "print('\\033[1m' + '-----------Used Qubits on Pegasus-----------' + '\\033[0m')\n",
    "print(p_trunc_qubits_df)"
   ]
  },
  {
   "cell_type": "markdown",
   "metadata": {},
   "source": [
    "### Zephyr"
   ]
  },
  {
   "cell_type": "code",
   "execution_count": 6,
   "metadata": {},
   "outputs": [
    {
     "name": "stdout",
     "output_type": "stream",
     "text": [
      "Building the BQM model.\n"
     ]
    },
    {
     "name": "stdout",
     "output_type": "stream",
     "text": [
      "Running on Zephyr Topology.\n",
      "You chose the Article chainstrength: 27.530612244897956.\n",
      "Finished running the experiment #1!\n",
      "Finished running the experiment #2!\n",
      "Finished running the experiment #3!\n",
      "Finished running the experiment #4!\n",
      "\n",
      "--------------------------------------------------------------------------\n",
      "\n",
      "Building the BQM model.\n",
      "Running on Zephyr Topology.\n",
      "You chose the Article chainstrength: 28.797385620915033.\n",
      "Finished running the experiment #1!\n",
      "Finished running the experiment #2!\n",
      "Finished running the experiment #3!\n",
      "Finished running the experiment #4!\n",
      "\n",
      "--------------------------------------------------------------------------\n",
      "\n",
      "Building the BQM model.\n",
      "Running on Zephyr Topology.\n",
      "You chose the Article chainstrength: 30.021599999999996.\n"
     ]
    },
    {
     "ename": "ValueError",
     "evalue": "no embedding found",
     "output_type": "error",
     "traceback": [
      "\u001b[1;31m---------------------------------------------------------------------------\u001b[0m",
      "\u001b[1;31mValueError\u001b[0m                                Traceback (most recent call last)",
      "Cell \u001b[1;32mIn [6], line 9\u001b[0m\n\u001b[0;32m      3\u001b[0m \u001b[38;5;28;01mfor\u001b[39;00m i \u001b[38;5;129;01min\u001b[39;00m \u001b[38;5;28mrange\u001b[39m(\u001b[38;5;28mlen\u001b[39m(bit_list)):\n\u001b[0;32m      5\u001b[0m     trunc_runner \u001b[38;5;241m=\u001b[39m lib\u001b[38;5;241m.\u001b[39mdwave_runners(trunc_Hs[i], trunc_offsets[i], \n\u001b[0;32m      6\u001b[0m                                      bit_list[i], topology\u001b[38;5;241m=\u001b[39m\u001b[38;5;124m'\u001b[39m\u001b[38;5;124mZephyr\u001b[39m\u001b[38;5;124m'\u001b[39m, \n\u001b[0;32m      7\u001b[0m                                      chosen_chainstrength\u001b[38;5;241m=\u001b[39m\u001b[38;5;124m'\u001b[39m\u001b[38;5;124mArticle\u001b[39m\u001b[38;5;124m'\u001b[39m)\n\u001b[1;32m----> 9\u001b[0m     logical_qubits, physical_qubits \u001b[38;5;241m=\u001b[39m \u001b[43mtrunc_runner\u001b[49m\u001b[38;5;241;43m.\u001b[39;49m\u001b[43mcounting_qubits\u001b[49m\u001b[43m(\u001b[49m\u001b[43maverage\u001b[49m\u001b[38;5;241;43m=\u001b[39;49m\u001b[38;5;241;43m4\u001b[39;49m\u001b[43m)\u001b[49m\n\u001b[0;32m     11\u001b[0m     z_trunc_qubits[\u001b[38;5;124mf\u001b[39m\u001b[38;5;124m'\u001b[39m\u001b[38;5;132;01m{\u001b[39;00mbit_list[i]\u001b[38;5;132;01m}\u001b[39;00m\u001b[38;5;124m_bits\u001b[39m\u001b[38;5;124m'\u001b[39m] \u001b[38;5;241m=\u001b[39m [logical_qubits, physical_qubits]\n\u001b[0;32m     12\u001b[0m     max_i \u001b[38;5;241m=\u001b[39m i\n",
      "File \u001b[1;32mc:\\Users\\sgala\\OneDrive\\Desktop\\VSCode\\Codici_VsCode_Git\\Tesi\\QA_Zephyr\\my_lib.py:399\u001b[0m, in \u001b[0;36mdwave_runners.counting_qubits\u001b[1;34m(self, average)\u001b[0m\n\u001b[0;32m    395\u001b[0m \u001b[38;5;28mself\u001b[39m\u001b[38;5;241m.\u001b[39mdefine_chainstrength()  \n\u001b[0;32m    397\u001b[0m \u001b[38;5;28;01mfor\u001b[39;00m t \u001b[38;5;129;01min\u001b[39;00m \u001b[38;5;28mrange\u001b[39m(average):\n\u001b[1;32m--> 399\u001b[0m     response \u001b[38;5;241m=\u001b[39m \u001b[38;5;28;43mself\u001b[39;49m\u001b[38;5;241;43m.\u001b[39;49m\u001b[43mcounting_run\u001b[49m\u001b[43m(\u001b[49m\u001b[43m)\u001b[49m\n\u001b[0;32m    400\u001b[0m     \u001b[38;5;28mprint\u001b[39m(\u001b[38;5;124mf\u001b[39m\u001b[38;5;124m'\u001b[39m\u001b[38;5;124mFinished running the experiment #\u001b[39m\u001b[38;5;132;01m{\u001b[39;00mt\u001b[38;5;241m+\u001b[39m\u001b[38;5;241m1\u001b[39m\u001b[38;5;132;01m}\u001b[39;00m\u001b[38;5;124m!\u001b[39m\u001b[38;5;124m'\u001b[39m)\n\u001b[0;32m    402\u001b[0m     used_embedding \u001b[38;5;241m=\u001b[39m response\u001b[38;5;241m.\u001b[39minfo[\u001b[38;5;124m'\u001b[39m\u001b[38;5;124membedding_context\u001b[39m\u001b[38;5;124m'\u001b[39m][\u001b[38;5;124m'\u001b[39m\u001b[38;5;124membedding\u001b[39m\u001b[38;5;124m'\u001b[39m]\n",
      "File \u001b[1;32mc:\\Users\\sgala\\OneDrive\\Desktop\\VSCode\\Codici_VsCode_Git\\Tesi\\QA_Zephyr\\my_lib.py:369\u001b[0m, in \u001b[0;36mdwave_runners.counting_run\u001b[1;34m(self)\u001b[0m\n\u001b[0;32m    359\u001b[0m \u001b[38;5;28;01mdef\u001b[39;00m \u001b[38;5;21mcounting_run\u001b[39m(\u001b[38;5;28mself\u001b[39m):\n\u001b[0;32m    361\u001b[0m     \u001b[38;5;124;03m'''\u001b[39;00m\n\u001b[0;32m    362\u001b[0m \u001b[38;5;124;03m        Single run for counting qubits. It's defined to not calculate multiple \u001b[39;00m\n\u001b[0;32m    363\u001b[0m \u001b[38;5;124;03m        times the chainstrength and to avoid useless prints.\u001b[39;00m\n\u001b[1;32m   (...)\u001b[0m\n\u001b[0;32m    366\u001b[0m \u001b[38;5;124;03m            response = SampleSet object with the details of the run.\u001b[39;00m\n\u001b[0;32m    367\u001b[0m \u001b[38;5;124;03m    '''\u001b[39;00m\n\u001b[1;32m--> 369\u001b[0m     response \u001b[38;5;241m=\u001b[39m \u001b[38;5;28;43mself\u001b[39;49m\u001b[38;5;241;43m.\u001b[39;49m\u001b[43msampler\u001b[49m\u001b[38;5;241;43m.\u001b[39;49m\u001b[43msample\u001b[49m\u001b[43m(\u001b[49m\u001b[38;5;28;43mself\u001b[39;49m\u001b[38;5;241;43m.\u001b[39;49m\u001b[43mH\u001b[49m\u001b[43m,\u001b[49m\u001b[43m \u001b[49m\u001b[43mchain_strength\u001b[49m\u001b[38;5;241;43m=\u001b[39;49m\u001b[38;5;28;43mself\u001b[39;49m\u001b[38;5;241;43m.\u001b[39;49m\u001b[43mchain_strength\u001b[49m\u001b[43m,\u001b[49m\u001b[43m \u001b[49m\n\u001b[0;32m    370\u001b[0m \u001b[43m                          \u001b[49m\u001b[43mnum_reads\u001b[49m\u001b[38;5;241;43m=\u001b[39;49m\u001b[38;5;28;43mself\u001b[39;49m\u001b[38;5;241;43m.\u001b[39;49m\u001b[43mnumruns\u001b[49m\u001b[43m,\u001b[49m\u001b[43m \u001b[49m\u001b[43mannealing_time\u001b[49m\u001b[38;5;241;43m=\u001b[39;49m\u001b[38;5;28;43mself\u001b[39;49m\u001b[38;5;241;43m.\u001b[39;49m\u001b[43mT\u001b[49m\u001b[43m,\u001b[49m\u001b[43m \u001b[49m\n\u001b[0;32m    371\u001b[0m \u001b[43m                          \u001b[49m\u001b[43manswer_mode\u001b[49m\u001b[38;5;241;43m=\u001b[39;49m\u001b[38;5;124;43m'\u001b[39;49m\u001b[38;5;124;43mhistogram\u001b[39;49m\u001b[38;5;124;43m'\u001b[39;49m\u001b[43m,\u001b[49m\n\u001b[0;32m    372\u001b[0m \u001b[43m                          \u001b[49m\u001b[43mlabel\u001b[49m\u001b[43m \u001b[49m\u001b[38;5;241;43m=\u001b[39;49m\u001b[43m \u001b[49m\u001b[38;5;124;43mf\u001b[39;49m\u001b[38;5;124;43m'\u001b[39;49m\u001b[38;5;124;43mmq_on_\u001b[39;49m\u001b[38;5;132;43;01m{\u001b[39;49;00m\u001b[38;5;28;43mself\u001b[39;49m\u001b[38;5;241;43m.\u001b[39;49m\u001b[43mtopology\u001b[49m\u001b[38;5;132;43;01m}\u001b[39;49;00m\u001b[38;5;124;43m'\u001b[39;49m\u001b[43m)\u001b[49m\n\u001b[0;32m    374\u001b[0m     \u001b[38;5;28;01mreturn\u001b[39;00m(response)\n",
      "File \u001b[1;32m~\\AppData\\Roaming\\Python\\Python310\\site-packages\\dwave\\system\\composites\\embedding.py:239\u001b[0m, in \u001b[0;36mEmbeddingComposite.sample\u001b[1;34m(self, bqm, chain_strength, chain_break_method, chain_break_fraction, embedding_parameters, return_embedding, warnings, **parameters)\u001b[0m\n\u001b[0;32m    235\u001b[0m embedding \u001b[38;5;241m=\u001b[39m \u001b[38;5;28mself\u001b[39m\u001b[38;5;241m.\u001b[39mfind_embedding(source_edgelist, target_edgelist,\n\u001b[0;32m    236\u001b[0m                                 \u001b[38;5;241m*\u001b[39m\u001b[38;5;241m*\u001b[39membedding_parameters)\n\u001b[0;32m    238\u001b[0m \u001b[38;5;28;01mif\u001b[39;00m bqm \u001b[38;5;129;01mand\u001b[39;00m \u001b[38;5;129;01mnot\u001b[39;00m embedding:\n\u001b[1;32m--> 239\u001b[0m     \u001b[38;5;28;01mraise\u001b[39;00m \u001b[38;5;167;01mValueError\u001b[39;00m(\u001b[38;5;124m\"\u001b[39m\u001b[38;5;124mno embedding found\u001b[39m\u001b[38;5;124m\"\u001b[39m)\n\u001b[0;32m    241\u001b[0m \u001b[38;5;28;01mif\u001b[39;00m \u001b[38;5;129;01mnot\u001b[39;00m \u001b[38;5;28mhasattr\u001b[39m(embedding, \u001b[38;5;124m'\u001b[39m\u001b[38;5;124membed_bqm\u001b[39m\u001b[38;5;124m'\u001b[39m):\n\u001b[0;32m    242\u001b[0m     embedding \u001b[38;5;241m=\u001b[39m EmbeddedStructure(target_edgelist, embedding)\n",
      "\u001b[1;31mValueError\u001b[0m: no embedding found"
     ]
    }
   ],
   "source": [
    "z_trunc_qubits = {}\n",
    "\n",
    "for i in range(len(bit_list)):\n",
    "\n",
    "    trunc_runner = lib.dwave_runners(trunc_Hs[i], trunc_offsets[i], \n",
    "                                     bit_list[i], topology='Zephyr', \n",
    "                                     chosen_chainstrength='Article')\n",
    "    \n",
    "    logical_qubits, physical_qubits = trunc_runner.counting_qubits(average=4)\n",
    "\n",
    "    z_trunc_qubits[f'{bit_list[i]}_bits'] = [logical_qubits, physical_qubits]\n",
    "    max_i = i"
   ]
  },
  {
   "cell_type": "markdown",
   "metadata": {},
   "source": [
    "Here we face our greatest limit: at the moment (December 2023), the Zephyr topology is only available as a prototype which counts roughly $500$ qubits. Hence, our examples with $n\\geq 8$ bits will not have a valid embedding and there will be no run.\n",
    "\n",
    "We will manually add this information in order to create the Pandas dataframe. Notice that we can reuse the number of logical qubits from the Pegasus runs, considering that this number only depends on the formulation of the Hamiltonian (which is independent from the topology).\n",
    "\n",
    "<span style=\"color:cyan\">**TO DO (Th)**</span>: add math calculus (especially in the Thesis) for physical qubits on this topology, if possible. In the meantime, it will be `None`. <br>"
   ]
  },
  {
   "cell_type": "code",
   "execution_count": 7,
   "metadata": {},
   "outputs": [],
   "source": [
    "## completing info\n",
    "\n",
    "for j in range(max_i+1, len(bit_list)):\n",
    "    z_trunc_qubits[f'{bit_list[i]}_bits'] = [p_trunc_qubits[f'{bit_list[i]}_bits'][0], None]"
   ]
  },
  {
   "cell_type": "code",
   "execution_count": 8,
   "metadata": {},
   "outputs": [
    {
     "name": "stdout",
     "output_type": "stream",
     "text": [
      "\u001b[1m-----------Used Qubits on Zephyr-----------\u001b[0m\n",
      "                 4_bits  6_bits  8_bits\n",
      "logical_qubits    30.00    90.0   231.0\n",
      "physical_qubits   50.25   213.5     NaN\n"
     ]
    }
   ],
   "source": [
    "z_trunc_qubits_df = pd.DataFrame(z_trunc_qubits, index=['logical_qubits', 'physical_qubits'])\n",
    "print('\\033[1m' + '-----------Used Qubits on Zephyr-----------' + '\\033[0m')\n",
    "print(z_trunc_qubits_df)"
   ]
  },
  {
   "cell_type": "markdown",
   "metadata": {},
   "source": [
    "## Penalization Embedding"
   ]
  },
  {
   "cell_type": "markdown",
   "metadata": {},
   "source": [
    "### Building the Hamiltonian"
   ]
  },
  {
   "cell_type": "code",
   "execution_count": 4,
   "metadata": {},
   "outputs": [
    {
     "name": "stdout",
     "output_type": "stream",
     "text": [
      "Total output qubits used: 29\n",
      "\n",
      "Total output qubits used: 71\n",
      "\n",
      "Total output qubits used: 161\n",
      "\n"
     ]
    }
   ],
   "source": [
    "## building penalization H a priori\n",
    "\n",
    "pen_Hs = []\n",
    "pen_offsets = []\n",
    "\n",
    "for i in range(len(bit_list)):\n",
    "\n",
    "    # symbolic def\n",
    "    penalization = article.penalization_embedding(bit_list[i], p_list[i], x_list[i])\n",
    "    pen_H = penalization.create_hamiltonian()\n",
    "    pen_sym = penalization.get_symbols()\n",
    "\n",
    "    # QUBO model\n",
    "    d_art = article.dwave_annealing(pen_H, bit_list[i], pen_sym)\n",
    "    pen_H_qubo, pen_qubo_offset = d_art.symbolic_to_dwave(pen_H, d_art.get_symbol_num(pen_sym))\n",
    "\n",
    "    # store\n",
    "    pen_Hs.append(pen_H_qubo)\n",
    "    pen_offsets.append(pen_qubo_offset)"
   ]
  },
  {
   "cell_type": "markdown",
   "metadata": {},
   "source": [
    "### Pegasus"
   ]
  },
  {
   "cell_type": "code",
   "execution_count": 5,
   "metadata": {},
   "outputs": [
    {
     "name": "stdout",
     "output_type": "stream",
     "text": [
      "Building the BQM model.\n",
      "Running on Pegasus Topology.\n",
      "You chose the Article chainstrength: 28.935483870967744.\n",
      "Finished running the experiment #1!\n",
      "Finished running the experiment #2!\n",
      "Finished running the experiment #3!\n",
      "Finished running the experiment #4!\n",
      "\n",
      "--------------------------------------------------------------------------\n",
      "\n",
      "Building the BQM model.\n",
      "Running on Pegasus Topology.\n",
      "You chose the Article chainstrength: 29.934782608695652.\n",
      "Finished running the experiment #1!\n",
      "Finished running the experiment #2!\n",
      "Finished running the experiment #3!\n",
      "Finished running the experiment #4!\n",
      "\n",
      "--------------------------------------------------------------------------\n",
      "\n",
      "Building the BQM model.\n",
      "Running on Pegasus Topology.\n",
      "You chose the Article chainstrength: 31.689342403628117.\n",
      "Finished running the experiment #1!\n",
      "Finished running the experiment #2!\n",
      "Finished running the experiment #3!\n",
      "Finished running the experiment #4!\n",
      "\n",
      "--------------------------------------------------------------------------\n",
      "\n"
     ]
    }
   ],
   "source": [
    "p_pen_qubits = {}\n",
    "\n",
    "for i in range(len(bit_list)):\n",
    "\n",
    "    pen_runner = lib.dwave_runners(pen_Hs[i], pen_offsets[i], \n",
    "                                    bit_list[i], topology='Pegasus', \n",
    "                                    chosen_chainstrength='Article')\n",
    "    \n",
    "    logical_qubits, physical_qubits = pen_runner.counting_qubits(average=4)\n",
    "\n",
    "    p_pen_qubits[f'{bit_list[i]}_bits'] = [logical_qubits, physical_qubits]"
   ]
  },
  {
   "cell_type": "code",
   "execution_count": 6,
   "metadata": {},
   "outputs": [
    {
     "name": "stdout",
     "output_type": "stream",
     "text": [
      "\u001b[1m-----------Used Qubits on Pegasus-----------\u001b[0m\n",
      "                 4_bits  6_bits  8_bits\n",
      "logical_qubits    61.00  150.00   345.0\n",
      "physical_qubits   92.75  301.75   855.5\n"
     ]
    }
   ],
   "source": [
    "p_pen_qubits_df = pd.DataFrame(p_pen_qubits, index=['logical_qubits', 'physical_qubits'])\n",
    "print('\\033[1m' + '-----------Used Qubits on Pegasus-----------' + '\\033[0m')\n",
    "print(p_pen_qubits_df)"
   ]
  },
  {
   "cell_type": "markdown",
   "metadata": {},
   "source": [
    "### Zephyr"
   ]
  },
  {
   "cell_type": "code",
   "execution_count": 7,
   "metadata": {},
   "outputs": [
    {
     "name": "stdout",
     "output_type": "stream",
     "text": [
      "Building the BQM model.\n"
     ]
    },
    {
     "name": "stdout",
     "output_type": "stream",
     "text": [
      "Running on Zephyr Topology.\n",
      "You chose the Article chainstrength: 28.935483870967744.\n",
      "Finished running the experiment #1!\n",
      "Finished running the experiment #2!\n",
      "Finished running the experiment #3!\n",
      "Finished running the experiment #4!\n",
      "\n",
      "--------------------------------------------------------------------------\n",
      "\n",
      "Building the BQM model.\n",
      "Running on Zephyr Topology.\n",
      "You chose the Article chainstrength: 29.934782608695652.\n",
      "Finished running the experiment #1!\n",
      "Finished running the experiment #2!\n",
      "Finished running the experiment #3!\n",
      "Finished running the experiment #4!\n",
      "\n",
      "--------------------------------------------------------------------------\n",
      "\n",
      "Building the BQM model.\n",
      "Running on Zephyr Topology.\n",
      "You chose the Article chainstrength: 31.689342403628117.\n"
     ]
    },
    {
     "ename": "ValueError",
     "evalue": "no embedding found",
     "output_type": "error",
     "traceback": [
      "\u001b[1;31m---------------------------------------------------------------------------\u001b[0m",
      "\u001b[1;31mValueError\u001b[0m                                Traceback (most recent call last)",
      "Cell \u001b[1;32mIn [7], line 9\u001b[0m\n\u001b[0;32m      3\u001b[0m \u001b[38;5;28;01mfor\u001b[39;00m i \u001b[38;5;129;01min\u001b[39;00m \u001b[38;5;28mrange\u001b[39m(\u001b[38;5;28mlen\u001b[39m(bit_list)):\n\u001b[0;32m      5\u001b[0m     pen_runner \u001b[38;5;241m=\u001b[39m lib\u001b[38;5;241m.\u001b[39mdwave_runners(pen_Hs[i], pen_offsets[i], \n\u001b[0;32m      6\u001b[0m                                     bit_list[i], topology\u001b[38;5;241m=\u001b[39m\u001b[38;5;124m'\u001b[39m\u001b[38;5;124mZephyr\u001b[39m\u001b[38;5;124m'\u001b[39m, \n\u001b[0;32m      7\u001b[0m                                     chosen_chainstrength\u001b[38;5;241m=\u001b[39m\u001b[38;5;124m'\u001b[39m\u001b[38;5;124mArticle\u001b[39m\u001b[38;5;124m'\u001b[39m)\n\u001b[1;32m----> 9\u001b[0m     logical_qubits, physical_qubits \u001b[38;5;241m=\u001b[39m \u001b[43mpen_runner\u001b[49m\u001b[38;5;241;43m.\u001b[39;49m\u001b[43mcounting_qubits\u001b[49m\u001b[43m(\u001b[49m\u001b[43maverage\u001b[49m\u001b[38;5;241;43m=\u001b[39;49m\u001b[38;5;241;43m4\u001b[39;49m\u001b[43m)\u001b[49m\n\u001b[0;32m     11\u001b[0m     z_pen_qubits[\u001b[38;5;124mf\u001b[39m\u001b[38;5;124m'\u001b[39m\u001b[38;5;132;01m{\u001b[39;00mbit_list[i]\u001b[38;5;132;01m}\u001b[39;00m\u001b[38;5;124m_bits\u001b[39m\u001b[38;5;124m'\u001b[39m] \u001b[38;5;241m=\u001b[39m [logical_qubits, physical_qubits]\n\u001b[0;32m     12\u001b[0m     max_i \u001b[38;5;241m=\u001b[39m i\n",
      "File \u001b[1;32mc:\\Users\\sgala\\OneDrive\\Desktop\\VSCode\\Codici_VsCode_Git\\Tesi\\QA_Zephyr\\my_lib.py:399\u001b[0m, in \u001b[0;36mdwave_runners.counting_qubits\u001b[1;34m(self, average)\u001b[0m\n\u001b[0;32m    395\u001b[0m \u001b[38;5;28mself\u001b[39m\u001b[38;5;241m.\u001b[39mdefine_chainstrength()  \n\u001b[0;32m    397\u001b[0m \u001b[38;5;28;01mfor\u001b[39;00m t \u001b[38;5;129;01min\u001b[39;00m \u001b[38;5;28mrange\u001b[39m(average):\n\u001b[1;32m--> 399\u001b[0m     response \u001b[38;5;241m=\u001b[39m \u001b[38;5;28;43mself\u001b[39;49m\u001b[38;5;241;43m.\u001b[39;49m\u001b[43mcounting_run\u001b[49m\u001b[43m(\u001b[49m\u001b[43m)\u001b[49m\n\u001b[0;32m    400\u001b[0m     \u001b[38;5;28mprint\u001b[39m(\u001b[38;5;124mf\u001b[39m\u001b[38;5;124m'\u001b[39m\u001b[38;5;124mFinished running the experiment #\u001b[39m\u001b[38;5;132;01m{\u001b[39;00mt\u001b[38;5;241m+\u001b[39m\u001b[38;5;241m1\u001b[39m\u001b[38;5;132;01m}\u001b[39;00m\u001b[38;5;124m!\u001b[39m\u001b[38;5;124m'\u001b[39m)\n\u001b[0;32m    402\u001b[0m     used_embedding \u001b[38;5;241m=\u001b[39m response\u001b[38;5;241m.\u001b[39minfo[\u001b[38;5;124m'\u001b[39m\u001b[38;5;124membedding_context\u001b[39m\u001b[38;5;124m'\u001b[39m][\u001b[38;5;124m'\u001b[39m\u001b[38;5;124membedding\u001b[39m\u001b[38;5;124m'\u001b[39m]\n",
      "File \u001b[1;32mc:\\Users\\sgala\\OneDrive\\Desktop\\VSCode\\Codici_VsCode_Git\\Tesi\\QA_Zephyr\\my_lib.py:369\u001b[0m, in \u001b[0;36mdwave_runners.counting_run\u001b[1;34m(self)\u001b[0m\n\u001b[0;32m    359\u001b[0m \u001b[38;5;28;01mdef\u001b[39;00m \u001b[38;5;21mcounting_run\u001b[39m(\u001b[38;5;28mself\u001b[39m):\n\u001b[0;32m    361\u001b[0m     \u001b[38;5;124;03m'''\u001b[39;00m\n\u001b[0;32m    362\u001b[0m \u001b[38;5;124;03m        Single run for counting qubits. It's defined to not calculate multiple \u001b[39;00m\n\u001b[0;32m    363\u001b[0m \u001b[38;5;124;03m        times the chainstrength and to avoid useless prints.\u001b[39;00m\n\u001b[1;32m   (...)\u001b[0m\n\u001b[0;32m    366\u001b[0m \u001b[38;5;124;03m            response = SampleSet object with the details of the run.\u001b[39;00m\n\u001b[0;32m    367\u001b[0m \u001b[38;5;124;03m    '''\u001b[39;00m\n\u001b[1;32m--> 369\u001b[0m     response \u001b[38;5;241m=\u001b[39m \u001b[38;5;28;43mself\u001b[39;49m\u001b[38;5;241;43m.\u001b[39;49m\u001b[43msampler\u001b[49m\u001b[38;5;241;43m.\u001b[39;49m\u001b[43msample\u001b[49m\u001b[43m(\u001b[49m\u001b[38;5;28;43mself\u001b[39;49m\u001b[38;5;241;43m.\u001b[39;49m\u001b[43mH\u001b[49m\u001b[43m,\u001b[49m\u001b[43m \u001b[49m\u001b[43mchain_strength\u001b[49m\u001b[38;5;241;43m=\u001b[39;49m\u001b[38;5;28;43mself\u001b[39;49m\u001b[38;5;241;43m.\u001b[39;49m\u001b[43mchain_strength\u001b[49m\u001b[43m,\u001b[49m\u001b[43m \u001b[49m\n\u001b[0;32m    370\u001b[0m \u001b[43m                          \u001b[49m\u001b[43mnum_reads\u001b[49m\u001b[38;5;241;43m=\u001b[39;49m\u001b[38;5;28;43mself\u001b[39;49m\u001b[38;5;241;43m.\u001b[39;49m\u001b[43mnumruns\u001b[49m\u001b[43m,\u001b[49m\u001b[43m \u001b[49m\u001b[43mannealing_time\u001b[49m\u001b[38;5;241;43m=\u001b[39;49m\u001b[38;5;28;43mself\u001b[39;49m\u001b[38;5;241;43m.\u001b[39;49m\u001b[43mT\u001b[49m\u001b[43m,\u001b[49m\u001b[43m \u001b[49m\n\u001b[0;32m    371\u001b[0m \u001b[43m                          \u001b[49m\u001b[43manswer_mode\u001b[49m\u001b[38;5;241;43m=\u001b[39;49m\u001b[38;5;124;43m'\u001b[39;49m\u001b[38;5;124;43mhistogram\u001b[39;49m\u001b[38;5;124;43m'\u001b[39;49m\u001b[43m,\u001b[49m\n\u001b[0;32m    372\u001b[0m \u001b[43m                          \u001b[49m\u001b[43mlabel\u001b[49m\u001b[43m \u001b[49m\u001b[38;5;241;43m=\u001b[39;49m\u001b[43m \u001b[49m\u001b[38;5;124;43mf\u001b[39;49m\u001b[38;5;124;43m'\u001b[39;49m\u001b[38;5;124;43mmq_on_\u001b[39;49m\u001b[38;5;132;43;01m{\u001b[39;49;00m\u001b[38;5;28;43mself\u001b[39;49m\u001b[38;5;241;43m.\u001b[39;49m\u001b[43mtopology\u001b[49m\u001b[38;5;132;43;01m}\u001b[39;49;00m\u001b[38;5;124;43m'\u001b[39;49m\u001b[43m)\u001b[49m\n\u001b[0;32m    374\u001b[0m     \u001b[38;5;28;01mreturn\u001b[39;00m(response)\n",
      "File \u001b[1;32m~\\AppData\\Roaming\\Python\\Python310\\site-packages\\dwave\\system\\composites\\embedding.py:239\u001b[0m, in \u001b[0;36mEmbeddingComposite.sample\u001b[1;34m(self, bqm, chain_strength, chain_break_method, chain_break_fraction, embedding_parameters, return_embedding, warnings, **parameters)\u001b[0m\n\u001b[0;32m    235\u001b[0m embedding \u001b[38;5;241m=\u001b[39m \u001b[38;5;28mself\u001b[39m\u001b[38;5;241m.\u001b[39mfind_embedding(source_edgelist, target_edgelist,\n\u001b[0;32m    236\u001b[0m                                 \u001b[38;5;241m*\u001b[39m\u001b[38;5;241m*\u001b[39membedding_parameters)\n\u001b[0;32m    238\u001b[0m \u001b[38;5;28;01mif\u001b[39;00m bqm \u001b[38;5;129;01mand\u001b[39;00m \u001b[38;5;129;01mnot\u001b[39;00m embedding:\n\u001b[1;32m--> 239\u001b[0m     \u001b[38;5;28;01mraise\u001b[39;00m \u001b[38;5;167;01mValueError\u001b[39;00m(\u001b[38;5;124m\"\u001b[39m\u001b[38;5;124mno embedding found\u001b[39m\u001b[38;5;124m\"\u001b[39m)\n\u001b[0;32m    241\u001b[0m \u001b[38;5;28;01mif\u001b[39;00m \u001b[38;5;129;01mnot\u001b[39;00m \u001b[38;5;28mhasattr\u001b[39m(embedding, \u001b[38;5;124m'\u001b[39m\u001b[38;5;124membed_bqm\u001b[39m\u001b[38;5;124m'\u001b[39m):\n\u001b[0;32m    242\u001b[0m     embedding \u001b[38;5;241m=\u001b[39m EmbeddedStructure(target_edgelist, embedding)\n",
      "\u001b[1;31mValueError\u001b[0m: no embedding found"
     ]
    }
   ],
   "source": [
    "z_pen_qubits = {}\n",
    "\n",
    "for i in range(len(bit_list)):\n",
    "\n",
    "    pen_runner = lib.dwave_runners(pen_Hs[i], pen_offsets[i], \n",
    "                                    bit_list[i], topology='Zephyr', \n",
    "                                    chosen_chainstrength='Article')\n",
    "    \n",
    "    logical_qubits, physical_qubits = pen_runner.counting_qubits(average=4)\n",
    "\n",
    "    z_pen_qubits[f'{bit_list[i]}_bits'] = [logical_qubits, physical_qubits]\n",
    "    max_i = i"
   ]
  },
  {
   "cell_type": "code",
   "execution_count": 8,
   "metadata": {},
   "outputs": [],
   "source": [
    "## completing info\n",
    "\n",
    "for j in range(max_i+1, len(bit_list)):\n",
    "    z_pen_qubits[f'{bit_list[i]}_bits'] = [p_pen_qubits[f'{bit_list[i]}_bits'][0], None]"
   ]
  },
  {
   "cell_type": "code",
   "execution_count": 9,
   "metadata": {},
   "outputs": [
    {
     "name": "stdout",
     "output_type": "stream",
     "text": [
      "\u001b[1m-----------Used Qubits on Zephyr-----------\u001b[0m\n",
      "                 4_bits  6_bits  8_bits\n",
      "logical_qubits     61.0   150.0   345.0\n",
      "physical_qubits    91.0   265.5     NaN\n"
     ]
    }
   ],
   "source": [
    "z_pen_qubits_df = pd.DataFrame(z_pen_qubits, index=['logical_qubits', 'physical_qubits'])\n",
    "print('\\033[1m' + '-----------Used Qubits on Zephyr-----------' + '\\033[0m')\n",
    "print(z_pen_qubits_df)"
   ]
  }
 ],
 "metadata": {
  "kernelspec": {
   "display_name": "Python 3",
   "language": "python",
   "name": "python3"
  },
  "language_info": {
   "codemirror_mode": {
    "name": "ipython",
    "version": 3
   },
   "file_extension": ".py",
   "mimetype": "text/x-python",
   "name": "python",
   "nbconvert_exporter": "python",
   "pygments_lexer": "ipython3",
   "version": "3.10.7"
  }
 },
 "nbformat": 4,
 "nbformat_minor": 2
}
