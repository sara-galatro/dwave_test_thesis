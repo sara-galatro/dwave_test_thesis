{
 "cells": [
  {
   "cell_type": "markdown",
   "metadata": {},
   "source": [
    "# Comparing the iterative method on Pegasus vs Zephyr Topology\n",
    "Title TBD"
   ]
  },
  {
   "cell_type": "markdown",
   "metadata": {},
   "source": [
    "(Intro TBD better)\n",
    "\n",
    "Notebook to run the iterative method for the direct embedding fo MQ problems with $5$ and $9$ bits. The aim of this notebook is to analyze how the code runs on the new Zephyr topology compared to the now state-of-art Pegasus topology."
   ]
  },
  {
   "cell_type": "markdown",
   "metadata": {},
   "source": [
    "Legenda:<br>\n",
    "<span style=\"color:cyan\">**TO DO (Th)**</span>: notes to myself, additional theory to add for the thesis presentation. <br>\n",
    "<span style=\"color:orange\">**TO DO (IF)**</span>: notes to myself, a non-necessary idea to implement. <br>\n",
    "<span style=\"color:red\">**TO DO (Crit)**</span>: problem or doubt to discuss and fix. <br>"
   ]
  },
  {
   "cell_type": "markdown",
   "metadata": {},
   "source": [
    "## Setup"
   ]
  },
  {
   "cell_type": "code",
   "execution_count": 1,
   "metadata": {},
   "outputs": [],
   "source": [
    "# import\n",
    "import my_lib as lib \n",
    "import article_lib as article\n",
    "\n",
    "import examples_nnf as nnf\n",
    "\n",
    "import numpy as np\n",
    "import pandas as pd \n",
    "from sympy import symbols\n",
    "from dwave.inspector import show"
   ]
  },
  {
   "cell_type": "markdown",
   "metadata": {},
   "source": [
    "## MQ with $5$ bits"
   ]
  },
  {
   "cell_type": "code",
   "execution_count": 2,
   "metadata": {},
   "outputs": [],
   "source": [
    "## problem parameters\n",
    "\n",
    "bits = 5            # number of binary variables\n",
    "iterations = 5      # number of iterations in iterative method\n",
    "treshold = 10       # number of low energy solutions to check for the i.m."
   ]
  },
  {
   "cell_type": "code",
   "execution_count": 3,
   "metadata": {},
   "outputs": [],
   "source": [
    "## problem def\n",
    "\n",
    "x5_sym = symbols(\" \".join((f\"x{i}\" for i in range(1, bits+1))))\n",
    "p5_sym, sol5 = nnf.example_5(*x5_sym)"
   ]
  },
  {
   "cell_type": "code",
   "execution_count": 4,
   "metadata": {},
   "outputs": [],
   "source": [
    "## building symbolic H\n",
    "\n",
    "direct = article.direct_embedding(bits, p5_sym, x5_sym)\n",
    "H_sym = direct.create_hamiltonian()\n",
    "sym = direct.get_symbols()\n",
    "#print(H_sym)\n",
    "#print(sym)"
   ]
  },
  {
   "cell_type": "code",
   "execution_count": 5,
   "metadata": {},
   "outputs": [],
   "source": [
    "## building QUBO model\n",
    "\n",
    "d_art = article.dwave_annealing(H_sym, bits, sym)\n",
    "H_qubo, qubo_offset = d_art.symbolic_to_dwave(H_sym, d_art.get_symbol_num(sym))\n",
    "#print(H_qubo)\n",
    "#print(qubo_offset)"
   ]
  },
  {
   "cell_type": "markdown",
   "metadata": {},
   "source": [
    "### Pegasus"
   ]
  },
  {
   "cell_type": "markdown",
   "metadata": {},
   "source": [
    "Since with $5$ bits there is no need to run multiple iterations, we call the function `single_run`."
   ]
  },
  {
   "cell_type": "code",
   "execution_count": 6,
   "metadata": {},
   "outputs": [
    {
     "name": "stdout",
     "output_type": "stream",
     "text": [
      "Building the BQM model.\n",
      "Running on Pegasus Topology.\n",
      "You chose the Article chainstrength: 37.10526315789473.\n",
      "Finished running the experiment!\n"
     ]
    }
   ],
   "source": [
    "runner = lib.dwave_runners(H_qubo, qubo_offset, bits, \n",
    "                        topology='Pegasus', \n",
    "                        chosen_chainstrength='Article' )\n",
    "p_response = runner.single_run()"
   ]
  },
  {
   "cell_type": "code",
   "execution_count": 7,
   "metadata": {},
   "outputs": [
    {
     "name": "stdout",
     "output_type": "stream",
     "text": [
      "Solution found: [1, 1, 0, 0, 1] with energy: 0.0\n",
      "The solution found is one of the known solutions: True\n"
     ]
    }
   ],
   "source": [
    "solution = runner.decoding_response(p_response)\n",
    "print(f'The solution found is one of the known solutions: {solution in sol5}')"
   ]
  },
  {
   "cell_type": "markdown",
   "metadata": {},
   "source": [
    "Using the D-Wave `inspector` to visualize the results and the info:"
   ]
  },
  {
   "cell_type": "code",
   "execution_count": 8,
   "metadata": {},
   "outputs": [
    {
     "data": {
      "text/html": [
       "<iframe src=http://127.0.0.1:18000/?problemId=b56885ec-1fe7-41a3-beb3-d96d5f305087 width=\"100%\" height=640></iframe>"
      ],
      "text/plain": [
       "Serving Inspector on http://127.0.0.1:18000/?problemId=b56885ec-1fe7-41a3-beb3-d96d5f305087"
      ]
     },
     "metadata": {},
     "output_type": "display_data"
    },
    {
     "data": {
      "text/plain": [
       "'http://127.0.0.1:18000/?problemId=b56885ec-1fe7-41a3-beb3-d96d5f305087'"
      ]
     },
     "execution_count": 8,
     "metadata": {},
     "output_type": "execute_result"
    }
   ],
   "source": [
    "show(p_response)"
   ]
  },
  {
   "cell_type": "markdown",
   "metadata": {},
   "source": [
    "<span style=\"color:cyan\">**TO DO (T):**</span> add more info on embedding"
   ]
  },
  {
   "cell_type": "markdown",
   "metadata": {},
   "source": [
    "### Zephyr"
   ]
  },
  {
   "cell_type": "code",
   "execution_count": 9,
   "metadata": {},
   "outputs": [
    {
     "name": "stdout",
     "output_type": "stream",
     "text": [
      "Building the BQM model.\n",
      "Running on Zephyr Topology.\n",
      "You chose the Article chainstrength: 37.10526315789473.\n",
      "Finished running the experiment!\n"
     ]
    }
   ],
   "source": [
    "runner = lib.dwave_runners(H_qubo, qubo_offset, bits, \n",
    "                        topology='Zephyr', \n",
    "                        chosen_chainstrength='Article' )\n",
    "z_response = runner.single_run()"
   ]
  },
  {
   "cell_type": "code",
   "execution_count": 10,
   "metadata": {},
   "outputs": [
    {
     "name": "stdout",
     "output_type": "stream",
     "text": [
      "Solution found: [1, 1, 0, 0, 1] with energy: 0.0\n",
      "The solution found is one of the known solutions: True\n"
     ]
    }
   ],
   "source": [
    "solution = runner.decoding_response(z_response)\n",
    "print(f'The solution found is one of the known solutions: {solution in sol5}')"
   ]
  },
  {
   "cell_type": "code",
   "execution_count": 11,
   "metadata": {},
   "outputs": [
    {
     "data": {
      "text/html": [
       "<iframe src=http://127.0.0.1:18000/?problemId=8fd22536-33bd-41ff-bb7d-b24452a5bcaf width=\"100%\" height=640></iframe>"
      ],
      "text/plain": [
       "Serving Inspector on http://127.0.0.1:18000/?problemId=8fd22536-33bd-41ff-bb7d-b24452a5bcaf"
      ]
     },
     "metadata": {},
     "output_type": "display_data"
    },
    {
     "data": {
      "text/plain": [
       "'http://127.0.0.1:18000/?problemId=8fd22536-33bd-41ff-bb7d-b24452a5bcaf'"
      ]
     },
     "execution_count": 11,
     "metadata": {},
     "output_type": "execute_result"
    }
   ],
   "source": [
    "show(z_response)"
   ]
  },
  {
   "cell_type": "markdown",
   "metadata": {},
   "source": [
    "### Analysis"
   ]
  },
  {
   "cell_type": "markdown",
   "metadata": {},
   "source": [
    "Let's compare the informations on the runs on the two topologies:"
   ]
  },
  {
   "cell_type": "code",
   "execution_count": 12,
   "metadata": {},
   "outputs": [],
   "source": [
    "## pegasus info\n",
    "pegasus_timing = p_response.info['timing']\n",
    "pegasus_embedding = p_response.info['embedding_context']['embedding']\n",
    "\n",
    "## zephyr info\n",
    "zephyr_timing = z_response.info['timing']\n",
    "zephyr_embedding = z_response.info['embedding_context']['embedding']"
   ]
  },
  {
   "cell_type": "code",
   "execution_count": 13,
   "metadata": {},
   "outputs": [
    {
     "name": "stdout",
     "output_type": "stream",
     "text": [
      "\u001b[1m-----------Difference in timings (Zephyr vs Pegasus)-----------\u001b[0m\n",
      "                                 Zephyr    Pegasus  Differences\n",
      "qpu_sampling_time              74140.00   92860.00    -18720.00\n",
      "qpu_anneal_time_per_sample        20.00      20.00         0.00\n",
      "qpu_readout_time_per_sample       33.12      52.32       -19.20\n",
      "qpu_access_time                80986.01  108619.17    -27633.16\n",
      "qpu_access_overhead_time         484.99    3460.83     -2975.84\n",
      "qpu_programming_time            6846.01   15759.17     -8913.16\n",
      "qpu_delay_time_per_sample         21.02      20.54         0.48\n",
      "post_processing_overhead_time   1678.00    1430.00       248.00\n",
      "total_post_processing_time      1678.00    1430.00       248.00\n"
     ]
    }
   ],
   "source": [
    "## comparing timing data from the runs\n",
    "\n",
    "diff = []\n",
    "for key in zephyr_timing:\n",
    "    diff.append(zephyr_timing[key] - pegasus_timing[key])\n",
    "\n",
    "data = {'Zephyr': zephyr_timing.values(),\n",
    "        'Pegasus': pegasus_timing.values(),\n",
    "        'Differences': diff}\n",
    "\n",
    "timings_df = pd.DataFrame(data, index = zephyr_timing.keys())\n",
    "print('\\033[1m' + '-----------Difference in timings (Zephyr vs Pegasus)-----------' + '\\033[0m')\n",
    "print(timings_df)"
   ]
  },
  {
   "cell_type": "markdown",
   "metadata": {},
   "source": [
    "<span style=\"color:cyan\">**TO DO (T):**</span> add comparison to press release of Zephyr, to see if the timing improvement obtained is in the same order of the one presented (?)"
   ]
  },
  {
   "cell_type": "code",
   "execution_count": 14,
   "metadata": {},
   "outputs": [],
   "source": [
    "## comparing embedding data from the runs\n",
    "\n",
    "z_count, z_chains = runner.get_info_on_embedding(zephyr_embedding)\n",
    "p_count, p_chains = runner.get_info_on_embedding(pegasus_embedding)"
   ]
  },
  {
   "cell_type": "code",
   "execution_count": 15,
   "metadata": {},
   "outputs": [
    {
     "name": "stdout",
     "output_type": "stream",
     "text": [
      "The run on the Zephyr topology required 13 physical qubits.\n",
      "The run on the Pegasus topology required 15 physical qubits.\n",
      "\n",
      "\u001b[1m-------------Difference in embeddings (Zephyr vs Pegasus)-------------\u001b[0m\n",
      "         lq_0  lq_1  lq_2  lq_3  lq_4  lq_5  lq_6  lq_7  lq_8  lq_9\n",
      "Zephyr      2     2     2     1     1     1     1     1     1     1\n",
      "Pegasus     2     1     2     2     1     2     2     1     1     1\n"
     ]
    }
   ],
   "source": [
    "print(f'The run on the Zephyr topology required {z_count} physical qubits.')\n",
    "print(f'The run on the Pegasus topology required {p_count} physical qubits.\\n')\n",
    "\n",
    "data = {'Zephyr': z_chains,\n",
    "        'Pegasus': p_chains}\n",
    "chains_df = pd.DataFrame(data, index = z_chains.keys()).transpose()\n",
    "print('\\033[1m' + '-------------Difference in embeddings (Zephyr vs Pegasus)-------------' + '\\033[0m')\n",
    "print(chains_df)"
   ]
  },
  {
   "cell_type": "markdown",
   "metadata": {},
   "source": [
    "## MQ with $9$ bits"
   ]
  },
  {
   "cell_type": "code",
   "execution_count": 16,
   "metadata": {},
   "outputs": [],
   "source": [
    "## problem parameters\n",
    "\n",
    "bits = 9            # number of binary variables\n",
    "iterations = 5      # number of iterations in iterative method\n",
    "treshold = 10       # number of low energy solutions to check for the i.m."
   ]
  },
  {
   "cell_type": "code",
   "execution_count": 17,
   "metadata": {},
   "outputs": [],
   "source": [
    "## problem def\n",
    "\n",
    "x9_sym = symbols(\" \".join((f\"x{i}\" for i in range(1, bits+1))))\n",
    "p9_sym, sol9 = nnf.example_9(*x9_sym)"
   ]
  },
  {
   "cell_type": "code",
   "execution_count": 18,
   "metadata": {},
   "outputs": [],
   "source": [
    "## building symbolic H\n",
    "\n",
    "direct = article.direct_embedding(bits, p9_sym, x9_sym)\n",
    "H_sym = direct.create_hamiltonian()\n",
    "sym = direct.get_symbols()\n",
    "#print(H_sym)\n",
    "#print(sym)"
   ]
  },
  {
   "cell_type": "code",
   "execution_count": 19,
   "metadata": {},
   "outputs": [],
   "source": [
    "## building QUBO model\n",
    "\n",
    "d_art = article.dwave_annealing(H_sym, bits, sym)\n",
    "H_qubo, qubo_offset = d_art.symbolic_to_dwave(H_sym, d_art.get_symbol_num(sym))\n",
    "#print(H_qubo)\n",
    "#print(qubo_offset)"
   ]
  },
  {
   "cell_type": "markdown",
   "metadata": {},
   "source": [
    "### Pegasus"
   ]
  },
  {
   "cell_type": "markdown",
   "metadata": {},
   "source": [
    "Here, we need the iterative method."
   ]
  },
  {
   "cell_type": "code",
   "execution_count": 20,
   "metadata": {},
   "outputs": [
    {
     "name": "stdout",
     "output_type": "stream",
     "text": [
      "Building the BQM model.\n",
      "Running on Pegasus Topology.\n",
      "\n",
      "------------------------------------------------------------------------\n",
      "\n",
      "Number of variables: 46\n",
      "You chose the Article chainstrength: 217.7682481751825.\n",
      "Finished running the experiment!\n",
      "Energy of best sample at iteration 0: 39.0\n",
      "Fixing ancillae...\n",
      "Fixed 12 qubits:\n",
      "12 : 0\n",
      "14 : 0\n",
      "16 : 0\n",
      "23 : 0\n",
      "27 : 0\n",
      "28 : 0\n",
      "37 : 0\n",
      "38 : 0\n",
      "39 : 0\n",
      "41 : 0\n",
      "44 : 0\n",
      "45 : 0\n",
      "\n",
      "------------------------------------------------------------------------\n",
      "\n",
      "Number of variables: 34\n",
      "You chose the Article chainstrength: 296.72903225806454.\n",
      "Finished running the experiment!\n",
      "Energy of best sample at iteration 1: 3.0\n",
      "Fixing ancillae...\n",
      "Fixed 16 qubits:\n",
      "12 : 0\n",
      "14 : 0\n",
      "16 : 0\n",
      "23 : 0\n",
      "27 : 0\n",
      "28 : 0\n",
      "37 : 0\n",
      "38 : 0\n",
      "39 : 0\n",
      "41 : 0\n",
      "44 : 0\n",
      "45 : 0\n",
      "11 : 0\n",
      "18 : 0\n",
      "20 : 0\n",
      "21 : 0\n",
      "\n",
      "------------------------------------------------------------------------\n",
      "\n",
      "Number of variables: 30\n",
      "You chose the Article chainstrength: 309.54545454545456.\n",
      "Finished running the experiment!\n",
      "Energy of best sample at iteration 2: 2.0\n",
      "Fixing ancillae...\n",
      "Fixed 21 qubits:\n",
      "12 : 0\n",
      "14 : 0\n",
      "16 : 0\n",
      "23 : 0\n",
      "27 : 0\n",
      "28 : 0\n",
      "37 : 0\n",
      "38 : 0\n",
      "39 : 0\n",
      "41 : 0\n",
      "44 : 0\n",
      "45 : 0\n",
      "11 : 0\n",
      "18 : 0\n",
      "20 : 0\n",
      "21 : 0\n",
      "13 : 0\n",
      "17 : 0\n",
      "19 : 0\n",
      "22 : 0\n",
      "24 : 0\n",
      "\n",
      "------------------------------------------------------------------------\n",
      "\n",
      "Number of variables: 25\n",
      "You chose the Article chainstrength: 335.8857142857143.\n",
      "Finished running the experiment!\n",
      "Energy of best sample at iteration 3: 0.0\n",
      "Solution found with final iteration 3.\n",
      "Reconstructing the final state...\n",
      "Solution found: [1, 0, 0, 1, 0, 1, 0, 1, 1]\n"
     ]
    }
   ],
   "source": [
    "runner = lib.dwave_runners(H_qubo, qubo_offset, bits, 'Pegasus', 'Article')\n",
    "print('\\n------------------------------------------------------------------------\\n')\n",
    "p_solution, p_timing_info, p_physical_qubits, p_final_it = runner.iterative()"
   ]
  },
  {
   "cell_type": "markdown",
   "metadata": {},
   "source": [
    "### Zephyr"
   ]
  },
  {
   "cell_type": "code",
   "execution_count": 39,
   "metadata": {},
   "outputs": [
    {
     "name": "stdout",
     "output_type": "stream",
     "text": [
      "Building the BQM model.\n",
      "Running on Zephyr Topology.\n",
      "\n",
      "------------------------------------------------------------------------\n",
      "\n",
      "Number of variables: 46\n",
      "You chose the Article chainstrength: 217.7682481751825.\n",
      "Finished running the experiment!\n",
      "Energy of best sample at iteration 0: 1.0\n",
      "Fixing ancillae...\n",
      "Fixed 18 qubits:\n",
      "11 : 0\n",
      "12 : 0\n",
      "14 : 0\n",
      "16 : 0\n",
      "18 : 0\n",
      "19 : 0\n",
      "20 : 0\n",
      "21 : 0\n",
      "22 : 0\n",
      "23 : 0\n",
      "24 : 0\n",
      "25 : 0\n",
      "27 : 0\n",
      "28 : 0\n",
      "29 : 0\n",
      "30 : 0\n",
      "31 : 0\n",
      "32 : 0\n",
      "\n",
      "------------------------------------------------------------------------\n",
      "\n",
      "Number of variables: 28\n",
      "You chose the Article chainstrength: 327.22813688212926.\n",
      "Finished running the experiment!\n",
      "Energy of best sample at iteration 1: 2.0\n",
      "Fixing ancillae...\n",
      "Fixed 20 qubits:\n",
      "11 : 0\n",
      "12 : 0\n",
      "14 : 0\n",
      "16 : 0\n",
      "18 : 0\n",
      "19 : 0\n",
      "20 : 0\n",
      "21 : 0\n",
      "22 : 0\n",
      "23 : 0\n",
      "24 : 0\n",
      "25 : 0\n",
      "27 : 0\n",
      "28 : 0\n",
      "29 : 0\n",
      "30 : 0\n",
      "31 : 0\n",
      "32 : 0\n",
      "13 : 0\n",
      "15 : 0\n",
      "\n",
      "------------------------------------------------------------------------\n",
      "\n",
      "Number of variables: 26\n",
      "You chose the Article chainstrength: 337.4605263157895.\n",
      "Finished running the experiment!\n",
      "Energy of best sample at iteration 2: 1.0\n",
      "Fixing ancillae...\n",
      "Fixed 20 qubits:\n",
      "11 : 0\n",
      "12 : 0\n",
      "14 : 0\n",
      "16 : 0\n",
      "18 : 0\n",
      "19 : 0\n",
      "20 : 0\n",
      "21 : 0\n",
      "22 : 0\n",
      "23 : 0\n",
      "24 : 0\n",
      "25 : 0\n",
      "27 : 0\n",
      "28 : 0\n",
      "29 : 0\n",
      "30 : 0\n",
      "31 : 0\n",
      "32 : 0\n",
      "13 : 0\n",
      "15 : 0\n",
      "\n",
      "------------------------------------------------------------------------\n",
      "\n",
      "Number of variables: 26\n",
      "You chose the Article chainstrength: 337.4605263157895.\n",
      "Finished running the experiment!\n",
      "Energy of best sample at iteration 3: 1.0\n",
      "Fixing ancillae...\n",
      "Fixed 22 qubits:\n",
      "11 : 0\n",
      "12 : 0\n",
      "14 : 0\n",
      "16 : 0\n",
      "18 : 0\n",
      "19 : 0\n",
      "20 : 0\n",
      "21 : 0\n",
      "22 : 0\n",
      "23 : 0\n",
      "24 : 0\n",
      "25 : 0\n",
      "27 : 0\n",
      "28 : 0\n",
      "29 : 0\n",
      "30 : 0\n",
      "31 : 0\n",
      "32 : 0\n",
      "13 : 0\n",
      "15 : 0\n",
      "10 : 0\n",
      "17 : 0\n",
      "\n",
      "------------------------------------------------------------------------\n",
      "\n",
      "Number of variables: 24\n",
      "You chose the Article chainstrength: 333.01554404145077.\n",
      "Finished running the experiment!\n",
      "Energy of best sample at iteration 4: 2.0\n",
      "Fixing ancillae...\n",
      "Fixed 23 qubits:\n",
      "11 : 0\n",
      "12 : 0\n",
      "14 : 0\n",
      "16 : 0\n",
      "18 : 0\n",
      "19 : 0\n",
      "20 : 0\n",
      "21 : 0\n",
      "22 : 0\n",
      "23 : 0\n",
      "24 : 0\n",
      "25 : 0\n",
      "27 : 0\n",
      "28 : 0\n",
      "29 : 0\n",
      "30 : 0\n",
      "31 : 0\n",
      "32 : 0\n",
      "13 : 0\n",
      "15 : 0\n",
      "10 : 0\n",
      "17 : 0\n",
      "9 : 0\n",
      "\n",
      "------------------------------------------------------------------------\n",
      "\n",
      "Reconstructing the final state...\n",
      "Solution found: [0, 0, 0, 1, 0, 1, 0, 1, 1]\n"
     ]
    }
   ],
   "source": [
    "runner = lib.dwave_runners(H_qubo, qubo_offset, bits, 'Zephyr', 'Article')\n",
    "print('\\n------------------------------------------------------------------------\\n')\n",
    "z_solution, z_timing_info, z_physical_qubits, z_final_it = runner.iterative()"
   ]
  },
  {
   "cell_type": "markdown",
   "metadata": {},
   "source": [
    "### Analysis"
   ]
  },
  {
   "cell_type": "code",
   "execution_count": 40,
   "metadata": {},
   "outputs": [
    {
     "name": "stdout",
     "output_type": "stream",
     "text": [
      "The iterative method on the Zephyr topology required a total of 390 physical qubits for 5 iterations.\n",
      "It found a solution: False.\n",
      "\n",
      "The iterative method on the Pegasus topology required a total of 383 physical qubits for 4 iterations.\n",
      "It found a solution: True.\n"
     ]
    }
   ],
   "source": [
    "print(f'The iterative method on the Zephyr topology required a total of {z_physical_qubits} physical qubits for {z_final_it+1} iterations.')\n",
    "print(f'It found a solution: {z_solution in sol9}.\\n')\n",
    "\n",
    "print(f'The iterative method on the Pegasus topology required a total of {p_physical_qubits} physical qubits for {p_final_it+1} iterations.')\n",
    "print(f'It found a solution: {p_solution in sol9}.')"
   ]
  },
  {
   "cell_type": "code",
   "execution_count": 38,
   "metadata": {},
   "outputs": [
    {
     "name": "stdout",
     "output_type": "stream",
     "text": [
      "\u001b[1m-------------Difference in timings (Zephyr vs Pegasus)-------------\u001b[0m\n",
      "                                  Zephyr    Pegasus  Differences\n",
      "qpu_sampling_time              354840.00  414640.00    -59800.00\n",
      "qpu_anneal_time_per_sample        100.00      60.00        40.00\n",
      "qpu_readout_time_per_sample       149.74     293.02      -143.28\n",
      "qpu_access_time                389069.25  461918.31    -72849.06\n",
      "qpu_access_overhead_time         6600.75    8986.69     -2385.94\n",
      "qpu_programming_time            34229.25   47278.31    -13049.06\n",
      "qpu_delay_time_per_sample         105.10      61.62        43.48\n",
      "post_processing_overhead_time    9135.00    4636.00      4499.00\n",
      "total_post_processing_time       9135.00    4636.00      4499.00\n"
     ]
    }
   ],
   "source": [
    "## comparing timing data\n",
    "\n",
    "diff_iterative = []\n",
    "for key in zephyr_timing:\n",
    "    diff_iterative.append(z_timing_info[key] - p_timing_info[key])\n",
    "\n",
    "data = {'Zephyr': z_timing_info.values(),\n",
    "        'Pegasus': p_timing_info.values(),\n",
    "        'Differences': diff_iterative}\n",
    "\n",
    "iterative_timings_df = pd.DataFrame(data, index = z_timing_info.keys())\n",
    "print('\\033[1m' + '-------------Difference in timings (Zephyr vs Pegasus)-------------' + '\\033[0m')\n",
    "print(iterative_timings_df)"
   ]
  },
  {
   "cell_type": "markdown",
   "metadata": {},
   "source": [
    "<span style=\"color:red\">**TO DO (Crit)**</span>: the timings values should be normalized somehow, given that more iterations bring a bigger time if it's working better.\n",
    "\n",
    "If no normalization can be found, maybe we can restrict the analysis to some of these values and comparate those for each single_run?"
   ]
  }
 ],
 "metadata": {
  "kernelspec": {
   "display_name": "Python 3",
   "language": "python",
   "name": "python3"
  },
  "language_info": {
   "codemirror_mode": {
    "name": "ipython",
    "version": 3
   },
   "file_extension": ".py",
   "mimetype": "text/x-python",
   "name": "python",
   "nbconvert_exporter": "python",
   "pygments_lexer": "ipython3",
   "version": "3.10.7"
  }
 },
 "nbformat": 4,
 "nbformat_minor": 2
}
