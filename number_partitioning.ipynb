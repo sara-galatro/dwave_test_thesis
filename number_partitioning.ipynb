{
 "cells": [
  {
   "cell_type": "markdown",
   "metadata": {},
   "source": [
    "# Number Partitioning : prima programmazione"
   ]
  },
  {
   "cell_type": "markdown",
   "metadata": {},
   "source": [
    "## Preparazione"
   ]
  },
  {
   "cell_type": "markdown",
   "metadata": {},
   "source": [
    "Scaricate le librerie necessarie, mi sono  iscritta alla piattaforma **Leap** della D-Wave così da poter avere un token API e avere accesso alla QPU e agli Hybrid Solver. Per far sì che l'accesso non scadesse tra un mese, ho creato un cartella (pubblica) su github dove saranno pubblicati i vari codici che scriverò usando Ocean (era la condizione per avere uso gratuito ogni mese). Inoltre, la cartella git serviva anche a me per poter facilmente aggiornare i codici a prescindere dal pc su cui lavoro.\n",
    "\n",
    "Ho voluto provare diversi approcci per vedere come funzionassero e quale fosse la sintassi corretta di essi; le riporto tutti i tentativi che ho fatto.\n",
    "\n",
    "Ovviamente l'istanza che ho utilizzato è un *problema giocattolo*, ma ho pensato che per iniziare a prendere la mano con il linguaggio potesse essere la scelta migliore, data anche la facile generalizzazione di tutti i procedimenti che ho effettuato.\n",
    "\n",
    "Altrettanto ovviamente, il programma che ho scritto non è ottimale però funziona. Ci sono solo alcuni dubbi su alcune funzioni di cui vorrei discutere con lei: i dubbi e le references sono riportate nel notebook quando tali funzioni sono chiamate."
   ]
  },
  {
   "cell_type": "code",
   "execution_count": 1,
   "metadata": {},
   "outputs": [],
   "source": [
    "# libraries\n",
    "import numpy as np\n",
    "import dimod as dd\n",
    "from dwave.system import LeapHybridSampler\n",
    "from dwave.system import DWaveSampler, EmbeddingComposite"
   ]
  },
  {
   "cell_type": "markdown",
   "metadata": {},
   "source": [
    "## Dati iniziali"
   ]
  },
  {
   "cell_type": "markdown",
   "metadata": {},
   "source": [
    "Dato un insieme, che nel nostro caso è $\\{1,2,3,4,10\\}$ (scelto affinché la differenza minima sia zero), possiamo scrivere la somma del primo sottoinsieme come\n",
    "$$\n",
    "    sum_1 = \\sum_{j=1}^5 s_j x_j\n",
    "$$\n",
    "dove $s_j$ è il valore dell'elemento $j-$ esimo e $x_j\\in\\{0,1\\}$ è la variabile binaria che indica se prendiamo $(x_j = 1)$ l'elemento $j$ oppure no $(x_j = 0)$.\n",
    "<br>Analogamente, possiamo scrivere la somma del secondo sottoinsieme in relazione alla somma del primo:\n",
    "$$\n",
    "    sum_2 =   \\sum_{j=1}^5 s_j  - \\sum_{j=1}^5 s_j x_j \n",
    "$$\n",
    "Dunque, la differenza tra i due sottoinsiemi è data da\n",
    "$$\n",
    "    d = tot -  2\\sum_{j=1}^5 s_j x_j\n",
    "$$\n",
    "La formulazione QUBO è ottenuta supponendo di voler minimizzare $d^2$, ossia\n",
    "$$\n",
    "    d^2 = tot^2 + 4x^T Q x\n",
    "$$\n",
    "dove $Q$ è una matrice $5\\times 5$ definita come\n",
    "$$\n",
    "    Q(i,j) = \n",
    "    \\begin{cases}\n",
    "        s_i(s_i - tot) & \\text{se } i=j\\\\\n",
    "        s_i s_j & \\text{se } i\\neq j\n",
    "    \\end{cases}\n",
    "$$\n",
    "definizione da cui possiamo osservare che $Q$ è simmetrica.\n",
    "\n",
    "Dunque, dato che i problemi di minimizzazione possono essere analizzati a prescindere dalle costanti, il nostro problema QUBO si riduce a voler minimizzare la forma quadratica:\n",
    "$$\n",
    "    QUBO: \\: \\min x^T Q x\n",
    "$$"
   ]
  },
  {
   "cell_type": "code",
   "execution_count": 2,
   "metadata": {},
   "outputs": [],
   "source": [
    "# input set\n",
    "num = [1,2,3,4,10]\n",
    "tot = sum(num)"
   ]
  },
  {
   "cell_type": "code",
   "execution_count": 3,
   "metadata": {},
   "outputs": [],
   "source": [
    "# QUBO matrix\n",
    "Q = np.zeros((5,5))\n",
    "\n",
    "for i in range(5):\n",
    "    for j in range(i,5):\n",
    "        if i == j: \n",
    "            Q[i][j] = num[i]*(num[i] - tot)\n",
    "        else:\n",
    "            Q[i][j] = num[i]*num[j]\n",
    "            Q[j][i] = num[i]*num[j]"
   ]
  },
  {
   "cell_type": "markdown",
   "metadata": {},
   "source": [
    "## Simulated Annealing"
   ]
  },
  {
   "cell_type": "markdown",
   "metadata": {},
   "source": [
    "La prima prova che ho effettuato è stata tramite *simulated annealing*, usando il modulo `Neal` di `Ocean` per effettuare il sampling e `Pyqubo` per preparare le variabili e il modello da ottimizzare."
   ]
  },
  {
   "cell_type": "code",
   "execution_count": 4,
   "metadata": {},
   "outputs": [],
   "source": [
    "from pyqubo import Array\n",
    "import neal"
   ]
  },
  {
   "cell_type": "markdown",
   "metadata": {},
   "source": [
    "La classe $\\underline{Array}$ è una classe equivalente all'omonima classe `Numpy`, su cui però sono definite le operazioni specifiche delle variabili di tipo SPIN o BINARY.\n",
    "\n",
    "Creiamo dunque l'array di variabili binarie, di cui vogliamo trovare la combinazione ottimale."
   ]
  },
  {
   "cell_type": "code",
   "execution_count": 5,
   "metadata": {},
   "outputs": [],
   "source": [
    "x = Array.create('x', shape = (1,5), vartype = 'BINARY')"
   ]
  },
  {
   "cell_type": "markdown",
   "metadata": {},
   "source": [
    "Per creare il modello QUBO o BQM da passare in input al SA, ci serve prima un modello intermedio ($ph\\_model$) che sia in formato di operazioni tra numeri e variabili Binary. \n",
    "\n",
    "**nota**: molte variabili che uso solo temporaneamente o per passaggi intermedi sono chiamate $ph\\_something$, a indicare che sono variabili segnaposto."
   ]
  },
  {
   "cell_type": "code",
   "execution_count": 6,
   "metadata": {},
   "outputs": [
    {
     "name": "stdout",
     "output_type": "stream",
     "text": [
      "(((Binary('x[0][4]') * -100.000000) * Binary('x[0][4]')) + ((Binary('x[0][4]') * 40.000000) * Binary('x[0][3]')) + ((Binary('x[0][4]') * 30.000000) * Binary('x[0][2]')) + ((Binary('x[0][4]') * 20.000000) * Binary('x[0][1]')) + ((Binary('x[0][4]') * 10.000000) * Binary('x[0][0]')) + ((Binary('x[0][3]') * 40.000000) * Binary('x[0][4]')) + ((Binary('x[0][3]') * -64.000000) * Binary('x[0][3]')) + ((Binary('x[0][3]') * 12.000000) * Binary('x[0][2]')) + ((Binary('x[0][3]') * 8.000000) * Binary('x[0][1]')) + ((Binary('x[0][3]') * 4.000000) * Binary('x[0][0]')) + ((Binary('x[0][2]') * 30.000000) * Binary('x[0][4]')) + ((Binary('x[0][2]') * 12.000000) * Binary('x[0][3]')) + ((Binary('x[0][2]') * -51.000000) * Binary('x[0][2]')) + ((Binary('x[0][2]') * 6.000000) * Binary('x[0][1]')) + ((Binary('x[0][2]') * 3.000000) * Binary('x[0][0]')) + ((Binary('x[0][1]') * 20.000000) * Binary('x[0][4]')) + ((Binary('x[0][1]') * 8.000000) * Binary('x[0][3]')) + ((Binary('x[0][1]') * 6.000000) * Binary('x[0][2]')) + ((Binary('x[0][1]') * -36.000000) * Binary('x[0][1]')) + ((Binary('x[0][1]') * 2.000000) * Binary('x[0][0]')) + ((Binary('x[0][0]') * 10.000000) * Binary('x[0][4]')) + ((Binary('x[0][0]') * 4.000000) * Binary('x[0][3]')) + ((Binary('x[0][0]') * 3.000000) * Binary('x[0][2]')) + ((Binary('x[0][0]') * 2.000000) * Binary('x[0][1]')) + 0.000000 + ((Binary('x[0][0]') * -19.000000) * Binary('x[0][0]')))\n",
      "BinaryQuadraticModel({'x[0][1]': -36.0, 'x[0][0]': -19.0, 'x[0][4]': -100.0, 'x[0][2]': -51.0, 'x[0][3]': -64.0}, {('x[0][0]', 'x[0][1]'): 4.0, ('x[0][4]', 'x[0][1]'): 40.0, ('x[0][4]', 'x[0][0]'): 20.0, ('x[0][2]', 'x[0][1]'): 12.0, ('x[0][2]', 'x[0][0]'): 6.0, ('x[0][2]', 'x[0][4]'): 60.0, ('x[0][3]', 'x[0][1]'): 16.0, ('x[0][3]', 'x[0][0]'): 8.0, ('x[0][3]', 'x[0][4]'): 80.0, ('x[0][3]', 'x[0][2]'): 24.0}, 0.0, 'BINARY')\n"
     ]
    }
   ],
   "source": [
    "ph_model = 0\n",
    "\n",
    "# operazioni\n",
    "for i in range(5):\n",
    "    for j in range(5):\n",
    "        ph_model = ph_model + x[0,i]*Q[i][j]*x[0,j]\n",
    "\n",
    "print(ph_model)\n",
    "\n",
    "# creazione del modello con operazioni\n",
    "model_pyqubo = ph_model.compile()\n",
    "\n",
    "# conversione in BQM\n",
    "bqm_pyqubo = model_pyqubo.to_bqm()\n",
    "print(bqm_pyqubo)"
   ]
  },
  {
   "cell_type": "markdown",
   "metadata": {},
   "source": [
    "**Nota**: le stampe sono sicuramente da sistemare, così da renderle più chiare e facilmente interpretarle. Ho visto che esiste una libreria \"PrettyPrint\", ma devo sistemare qualche impostazione per poterla usare, quindi ho preferito dedicarmi ad altro in questo momento."
   ]
  },
  {
   "cell_type": "markdown",
   "metadata": {},
   "source": [
    "Possiamo dunque ora definire il nostro $sampler$ e cercare la combinazione di variabili ottimali per il nostro problema."
   ]
  },
  {
   "cell_type": "code",
   "execution_count": 7,
   "metadata": {},
   "outputs": [
    {
     "name": "stdout",
     "output_type": "stream",
     "text": [
      "{'x[0][0]': 0, 'x[0][1]': 0, 'x[0][2]': 0, 'x[0][3]': 0, 'x[0][4]': 1}\n"
     ]
    }
   ],
   "source": [
    "# simulated annealing\n",
    "sa = neal.SimulatedAnnealingSampler()\n",
    "sampleset = sa.sample(bqm_pyqubo, num_reads=10)\n",
    "\n",
    "# analisi output e stampa del migliore\n",
    "samples = model_pyqubo.decode_sampleset(sampleset)\n",
    "best_sample = min(samples, key=lambda s: s.energy)\n",
    "print(best_sample.sample) "
   ]
  },
  {
   "cell_type": "markdown",
   "metadata": {},
   "source": [
    "Osserviamo che la soluzione trovata è effetivamente ottimale: prendendo infatti $S_1 = \\{1,2,3,4\\}$ e $S_2 =\\{10\\}$ otteniamo una differenza nulla, esattamente ciò che ci aspettavamo."
   ]
  },
  {
   "cell_type": "markdown",
   "metadata": {},
   "source": [
    "Possiamo anche usare creare un modello QUBO partendo dal nostro modello intermedio usando la funzione dedicata:"
   ]
  },
  {
   "cell_type": "code",
   "execution_count": 8,
   "metadata": {},
   "outputs": [
    {
     "name": "stdout",
     "output_type": "stream",
     "text": [
      "({('x[0][4]', 'x[0][3]'): 80.0, ('x[0][3]', 'x[0][1]'): 16.0, ('x[0][0]', 'x[0][0]'): -19.0, ('x[0][3]', 'x[0][3]'): -64.0, ('x[0][1]', 'x[0][0]'): 4.0, ('x[0][4]', 'x[0][1]'): 40.0, ('x[0][4]', 'x[0][2]'): 60.0, ('x[0][3]', 'x[0][2]'): 24.0, ('x[0][2]', 'x[0][2]'): -51.0, ('x[0][3]', 'x[0][0]'): 8.0, ('x[0][2]', 'x[0][0]'): 6.0, ('x[0][2]', 'x[0][1]'): 12.0, ('x[0][4]', 'x[0][4]'): -100.0, ('x[0][1]', 'x[0][1]'): -36.0, ('x[0][4]', 'x[0][0]'): 20.0}, 0.0)\n"
     ]
    }
   ],
   "source": [
    "# conversione in modello QUBO\n",
    "qubo_pyqubo = model_pyqubo.to_qubo()\n",
    "print(qubo_pyqubo)"
   ]
  },
  {
   "cell_type": "markdown",
   "metadata": {},
   "source": [
    "Osserviamo però che il sampler relativo al QUBO prende in input direttamente la matrice $Q$, che trasforma poi immediatamente in un tipo BQM (è possibile vederlo nel codice relativo pubblicato su [github](https://github.com/dwavesystems/dimod/blob/0.12.6/dimod/core/sampler.py#L268))."
   ]
  },
  {
   "cell_type": "code",
   "execution_count": 9,
   "metadata": {},
   "outputs": [
    {
     "data": {
      "text/plain": [
       "SampleSet(rec.array([([1, 1, 1, 1, 0], -100., 1)],\n",
       "          dtype=[('sample', 'i1', (5,)), ('energy', '<f8'), ('num_occurrences', '<i4')]), Variables([0, 1, 2, 3, 4]), {'beta_range': [0.006931471805599453, 2.649158683274018], 'beta_schedule_type': 'geometric'}, 'BINARY')"
      ]
     },
     "execution_count": 9,
     "metadata": {},
     "output_type": "execute_result"
    }
   ],
   "source": [
    "# sample tramite QUBO\n",
    "sampleset = sa.sample_qubo(Q)\n",
    "sampleset"
   ]
  },
  {
   "cell_type": "markdown",
   "metadata": {},
   "source": [
    "Vorrei poi infatti discutere con lei di questo passaggio che viene effettuato: nella definizione di *sample_qubo* si passa a BQM per poi chiamare *sample*, ma in *sample* poi si ritorna a Ising o a QUBO (a seconda del tipo di variabili): non mi è chiaro quindi se effettivamente ci sia una qualche differenza oppure no.\n",
    "\n",
    "Riporto le references:\n",
    "<br> [sampler](https://docs.ocean.dwavesys.com/en/latest/docs_dimod/reference/sampler_composites/generated/dimod.Sampler.sample.html#dimod.Sampler.sample)\n",
    "<br> [sample_qubo](https://docs.ocean.dwavesys.com/en/latest/docs_dimod/reference/sampler_composites/generated/dimod.Sampler.sample_qubo.html#dimod.Sampler.sample_qubo)"
   ]
  },
  {
   "cell_type": "markdown",
   "metadata": {},
   "source": [
    "Ho poi scoperto, leggendo la documentazione, che la libreria `Neal` sarà eliminata nei prossimi aggiornamenti, dato che è stata sostituita da un `d-wave-sampler`: il procedimento resta in ogni caso lo stesso."
   ]
  },
  {
   "cell_type": "code",
   "execution_count": 10,
   "metadata": {},
   "outputs": [
    {
     "name": "stdout",
     "output_type": "stream",
     "text": [
      "BQM:\n",
      "{'x[0][0]': 0, 'x[0][1]': 0, 'x[0][2]': 0, 'x[0][3]': 0, 'x[0][4]': 1}\n",
      "QUBO\n",
      "{'x[0][4]': 0, 'x[0][3]': 0, 'x[0][2]': 0, 'x[0][1]': 0, 'x[0][0]': 1}\n"
     ]
    }
   ],
   "source": [
    "from dwave.samplers import SimulatedAnnealingSampler\n",
    "\n",
    "# BQM\n",
    "sampler = SimulatedAnnealingSampler()\n",
    "sampleset = sampler.sample(bqm_pyqubo, num_reads=10)\n",
    "\n",
    "samples = model_pyqubo.decode_sampleset(sampleset) # funzione pyqubo\n",
    "best_sample = min(samples, key=lambda s: s.energy)\n",
    "print(\"BQM:\")\n",
    "print(best_sample.sample) \n",
    "\n",
    "# QUBO\n",
    "sampleset = sampler.sample_qubo(Q)\n",
    "samples = model_pyqubo.decode_sampleset(sampleset)\n",
    "best_sample = min(samples, key=lambda s: s.energy)\n",
    "print(\"QUBO\")\n",
    "print(best_sample.sample) "
   ]
  },
  {
   "cell_type": "markdown",
   "metadata": {},
   "source": [
    "## Quantum Annealing + Hybrid Solver"
   ]
  },
  {
   "cell_type": "markdown",
   "metadata": {},
   "source": [
    "Sono poi passata ad usare esclusivamente la libreria `Ocean`, facendo così delle prove con i risolutori ibridi e con la loro QPU.\n",
    "\n",
    "Iniziamo dunque creando il BQM su cui lavorare:"
   ]
  },
  {
   "cell_type": "code",
   "execution_count": 11,
   "metadata": {},
   "outputs": [
    {
     "data": {
      "text/plain": [
       "BinaryQuadraticModel({0: -19.0, 1: -36.0, 2: -51.0, 3: -64.0, 4: -100.0}, {(1, 0): 4.0, (2, 0): 6.0, (2, 1): 12.0, (3, 0): 8.0, (3, 1): 16.0, (3, 2): 24.0, (4, 0): 20.0, (4, 1): 40.0, (4, 2): 60.0, (4, 3): 80.0}, 0.0, 'BINARY')"
      ]
     },
     "execution_count": 11,
     "metadata": {},
     "output_type": "execute_result"
    }
   ],
   "source": [
    "bqm_wave = dd.BQM.from_qubo(Q)\n",
    "bqm_wave"
   ]
  },
  {
   "cell_type": "markdown",
   "metadata": {},
   "source": [
    "Procediamo ora con il sampling tramite QPU: per usare il processore quantistico è però necessario effettuare un *embedding*, ossia mappare le variabili del nostro problema sulla topologia specifica della QPU. \n",
    "\n",
    "La funzione qui usata è quella più generale e si basa sull'euristica, senza presuppore una conoscenza approfondita della struttura del problema"
   ]
  },
  {
   "cell_type": "code",
   "execution_count": 12,
   "metadata": {},
   "outputs": [
    {
     "name": "stdout",
     "output_type": "stream",
     "text": [
      "A titolo di esempio, riportiamo tutto il sample_set\n",
      "    0  1  2  3  4 energy num_oc. chain_.\n",
      "0   0  0  0  0  1 -100.0      15     0.0\n",
      "1   1  1  1  1  0 -100.0      24     0.0\n",
      "2   1  0  0  0  1  -99.0      19     0.0\n",
      "3   0  1  1  1  0  -99.0      16     0.0\n",
      "4   1  0  1  1  0  -96.0      12     0.0\n",
      "5   0  1  0  0  1  -96.0       2     0.0\n",
      "6   1  1  0  0  1  -91.0       4     0.0\n",
      "7   0  0  1  1  0  -91.0       3     0.0\n",
      "8   0  0  1  0  1  -91.0       1     0.0\n",
      "9   1  1  0  1  0  -91.0       3     0.0\n",
      "10  1  0  0  1  1  -75.0       1     0.0\n",
      "['BINARY', 11 rows, 100 samples, 5 variables]\n",
      "I tempi sono da intendere da microsecondi:\n"
     ]
    },
    {
     "data": {
      "text/plain": [
       "{'timing': {'qpu_sampling_time': 9492.0,\n",
       "  'qpu_anneal_time_per_sample': 20.0,\n",
       "  'qpu_readout_time_per_sample': 54.38,\n",
       "  'qpu_access_time': 25254.77,\n",
       "  'qpu_access_overhead_time': 1083.23,\n",
       "  'qpu_programming_time': 15762.77,\n",
       "  'qpu_delay_time_per_sample': 20.54,\n",
       "  'total_post_processing_time': 517.0,\n",
       "  'post_processing_overhead_time': 517.0},\n",
       " 'problem_id': '43c4c034-cc98-4bdb-93f4-a56046103821'}"
      ]
     },
     "execution_count": 12,
     "metadata": {},
     "output_type": "execute_result"
    }
   ],
   "source": [
    "sampleset = EmbeddingComposite(DWaveSampler()).sample(bqm_wave, num_reads=100) # submit to a QPU \n",
    "print(\"A titolo di esempio, riportiamo tutto il sample_set\")\n",
    "print(sampleset)\n",
    "\n",
    "print(\"I tempi sono da intendere da microsecondi:\")\n",
    "sampleset.info"
   ]
  },
  {
   "cell_type": "markdown",
   "metadata": {},
   "source": [
    "Nuovamente, possiamo implementare la stessa soluzione direttamente tramite QUBO:"
   ]
  },
  {
   "cell_type": "code",
   "execution_count": 13,
   "metadata": {},
   "outputs": [
    {
     "name": "stdout",
     "output_type": "stream",
     "text": [
      "    0  1  2  3  4 energy num_oc. chain_.\n",
      "0   0  0  0  0  1 -100.0      13     0.0\n",
      "1   1  1  1  1  0 -100.0      12     0.0\n",
      "2   0  1  1  1  0  -99.0      16     0.0\n",
      "3   1  0  0  0  1  -99.0      24     0.0\n",
      "4   0  1  0  0  1  -96.0      11     0.0\n",
      "5   1  0  1  1  0  -96.0       3     0.0\n",
      "6   0  0  1  0  1  -91.0       4     0.0\n",
      "7   1  1  0  1  0  -91.0       4     0.0\n",
      "8   0  0  1  1  0  -91.0       6     0.0\n",
      "9   1  1  0  0  1  -91.0       2     0.0\n",
      "10  0  0  0  1  1  -84.0       2     0.0\n",
      "11  1  1  1  0  0  -84.0       3     0.0\n",
      "['BINARY', 12 rows, 100 samples, 5 variables]\n",
      "I tempi sono da intendere da microsecondi:\n"
     ]
    },
    {
     "data": {
      "text/plain": [
       "{'timing': {'qpu_sampling_time': 10732.0,\n",
       "  'qpu_anneal_time_per_sample': 20.0,\n",
       "  'qpu_readout_time_per_sample': 66.78,\n",
       "  'qpu_access_time': 26493.97,\n",
       "  'qpu_access_overhead_time': 1197.03,\n",
       "  'qpu_programming_time': 15761.97,\n",
       "  'qpu_delay_time_per_sample': 20.54,\n",
       "  'total_post_processing_time': 1933.0,\n",
       "  'post_processing_overhead_time': 1933.0},\n",
       " 'problem_id': 'c3593efd-d249-4c94-bd83-d0d47a55a623'}"
      ]
     },
     "execution_count": 13,
     "metadata": {},
     "output_type": "execute_result"
    }
   ],
   "source": [
    "sampleset = EmbeddingComposite(DWaveSampler()).sample_qubo(Q, num_reads=100)\n",
    "print(sampleset)\n",
    "\n",
    "print(\"I tempi sono da intendere da microsecondi:\")\n",
    "sampleset.info"
   ]
  },
  {
   "cell_type": "markdown",
   "metadata": {},
   "source": [
    "Anche l'Hybrid Sampler segue gli stessi procedimenti:"
   ]
  },
  {
   "cell_type": "code",
   "execution_count": 14,
   "metadata": {},
   "outputs": [
    {
     "name": "stdout",
     "output_type": "stream",
     "text": [
      "BQM\n",
      "   0  1  2  3  4 energy num_oc.\n",
      "0  0  0  0  0  1 -100.0       1\n",
      "['BINARY', 1 rows, 1 samples, 5 variables]\n",
      "I tempi sono da intendere da microsecondi:\n"
     ]
    },
    {
     "data": {
      "text/plain": [
       "{'qpu_access_time': 128576,\n",
       " 'charge_time': 2982837,\n",
       " 'run_time': 2982837,\n",
       " 'problem_id': '8474cc2c-0837-4a87-a9b2-d51b03bdddd2'}"
      ]
     },
     "execution_count": 14,
     "metadata": {},
     "output_type": "execute_result"
    }
   ],
   "source": [
    "sampler = LeapHybridSampler(solver={'category': 'hybrid'})    \n",
    "\n",
    "# BQM\n",
    "sampleset_hybrid = sampler.sample(bqm_wave)  \n",
    "print(\"BQM\") \n",
    "print(sampleset_hybrid)    \n",
    "\n",
    "print(\"I tempi sono da intendere da microsecondi:\")\n",
    "sampleset_hybrid.info"
   ]
  },
  {
   "cell_type": "code",
   "execution_count": 15,
   "metadata": {},
   "outputs": [
    {
     "name": "stdout",
     "output_type": "stream",
     "text": [
      "QUBO\n",
      "   0  1  2  3  4 energy num_oc.\n",
      "0  0  0  0  0  1 -100.0       1\n",
      "['BINARY', 1 rows, 1 samples, 5 variables]\n",
      "I tempi sono da intendere da microsecondi:\n"
     ]
    },
    {
     "data": {
      "text/plain": [
       "{'qpu_access_time': 96323,\n",
       " 'charge_time': 2998020,\n",
       " 'run_time': 2998020,\n",
       " 'problem_id': 'f8c8e6f7-cb99-424d-b507-35335a915b22'}"
      ]
     },
     "execution_count": 15,
     "metadata": {},
     "output_type": "execute_result"
    }
   ],
   "source": [
    "# QUBO\n",
    "sampleset_hybrid = sampler.sample_qubo(Q)\n",
    "print(\"QUBO\")\n",
    "print(sampleset_hybrid)  \n",
    "\n",
    "print(\"I tempi sono da intendere da microsecondi:\")\n",
    "sampleset_hybrid.info"
   ]
  }
 ],
 "metadata": {
  "kernelspec": {
   "display_name": "Python 3",
   "language": "python",
   "name": "python3"
  },
  "language_info": {
   "codemirror_mode": {
    "name": "ipython",
    "version": 3
   },
   "file_extension": ".py",
   "mimetype": "text/x-python",
   "name": "python",
   "nbconvert_exporter": "python",
   "pygments_lexer": "ipython3",
   "version": "3.11.5"
  },
  "orig_nbformat": 4
 },
 "nbformat": 4,
 "nbformat_minor": 2
}
